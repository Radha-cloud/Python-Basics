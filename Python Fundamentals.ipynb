{
 "cells": [
  {
   "cell_type": "markdown",
   "metadata": {},
   "source": [
    "# Variables"
   ]
  },
  {
   "cell_type": "code",
   "execution_count": 1,
   "metadata": {},
   "outputs": [],
   "source": [
    "a = 10"
   ]
  },
  {
   "cell_type": "code",
   "execution_count": 2,
   "metadata": {},
   "outputs": [
    {
     "name": "stdout",
     "output_type": "stream",
     "text": [
      "10\n"
     ]
    }
   ],
   "source": [
    "print(a)"
   ]
  },
  {
   "cell_type": "code",
   "execution_count": 4,
   "metadata": {},
   "outputs": [],
   "source": [
    "a = \"Radha\""
   ]
  },
  {
   "cell_type": "code",
   "execution_count": 5,
   "metadata": {},
   "outputs": [
    {
     "data": {
      "text/plain": [
       "5"
      ]
     },
     "execution_count": 5,
     "metadata": {},
     "output_type": "execute_result"
    }
   ],
   "source": [
    "len(a)"
   ]
  },
  {
   "cell_type": "markdown",
   "metadata": {},
   "source": [
    "# Data Structure\n",
    "    List\n",
    "    Tuple\n",
    "    Set\n",
    "    Dictionary"
   ]
  },
  {
   "cell_type": "markdown",
   "metadata": {},
   "source": [
    "# List"
   ]
  },
  {
   "cell_type": "code",
   "execution_count": 7,
   "metadata": {},
   "outputs": [],
   "source": [
    "List = [1,2,3,4,5]"
   ]
  },
  {
   "cell_type": "code",
   "execution_count": 8,
   "metadata": {},
   "outputs": [],
   "source": [
    "L_one = [1,2,3,4,5,6,7,8,9]"
   ]
  },
  {
   "cell_type": "code",
   "execution_count": 9,
   "metadata": {},
   "outputs": [
    {
     "name": "stdout",
     "output_type": "stream",
     "text": [
      "[1, 2, 3, 4, 5, 6, 7, 8, 9]\n"
     ]
    }
   ],
   "source": [
    "print(L_one)"
   ]
  },
  {
   "cell_type": "code",
   "execution_count": 10,
   "metadata": {},
   "outputs": [
    {
     "data": {
      "text/plain": [
       "1"
      ]
     },
     "execution_count": 10,
     "metadata": {},
     "output_type": "execute_result"
    }
   ],
   "source": [
    "L_one[0]"
   ]
  },
  {
   "cell_type": "code",
   "execution_count": 11,
   "metadata": {},
   "outputs": [
    {
     "data": {
      "text/plain": [
       "6"
      ]
     },
     "execution_count": 11,
     "metadata": {},
     "output_type": "execute_result"
    }
   ],
   "source": [
    "L_one[5]"
   ]
  },
  {
   "cell_type": "code",
   "execution_count": 12,
   "metadata": {},
   "outputs": [
    {
     "data": {
      "text/plain": [
       "[1, 2, 3, 4, 5]"
      ]
     },
     "execution_count": 12,
     "metadata": {},
     "output_type": "execute_result"
    }
   ],
   "source": [
    "L_one[0:5]"
   ]
  },
  {
   "cell_type": "raw",
   "metadata": {},
   "source": [
    "To add anything to the list, will use append function\n",
    "#Append Function"
   ]
  },
  {
   "cell_type": "code",
   "execution_count": 13,
   "metadata": {},
   "outputs": [],
   "source": [
    "L_one.append(\"The thing that I want to append\")"
   ]
  },
  {
   "cell_type": "code",
   "execution_count": 14,
   "metadata": {},
   "outputs": [
    {
     "name": "stdout",
     "output_type": "stream",
     "text": [
      "[1, 2, 3, 4, 5, 6, 7, 8, 9, 'The thing that I want to append']\n"
     ]
    }
   ],
   "source": [
    "print(L_one)"
   ]
  },
  {
   "cell_type": "code",
   "execution_count": 15,
   "metadata": {},
   "outputs": [],
   "source": [
    "L_one.append(10)"
   ]
  },
  {
   "cell_type": "code",
   "execution_count": 16,
   "metadata": {},
   "outputs": [
    {
     "name": "stdout",
     "output_type": "stream",
     "text": [
      "[1, 2, 3, 4, 5, 6, 7, 8, 9, 'The thing that I want to append', 10]\n"
     ]
    }
   ],
   "source": [
    "print(L_one)"
   ]
  },
  {
   "cell_type": "code",
   "execution_count": 17,
   "metadata": {},
   "outputs": [],
   "source": [
    "L_one.append(10)"
   ]
  },
  {
   "cell_type": "code",
   "execution_count": 18,
   "metadata": {},
   "outputs": [
    {
     "name": "stdout",
     "output_type": "stream",
     "text": [
      "[1, 2, 3, 4, 5, 6, 7, 8, 9, 'The thing that I want to append', 10, 10]\n"
     ]
    }
   ],
   "source": [
    "print(L_one)"
   ]
  },
  {
   "cell_type": "code",
   "execution_count": 19,
   "metadata": {},
   "outputs": [],
   "source": [
    "L_one.append(10)"
   ]
  },
  {
   "cell_type": "code",
   "execution_count": 20,
   "metadata": {},
   "outputs": [],
   "source": [
    "L_one.append(10)"
   ]
  },
  {
   "cell_type": "code",
   "execution_count": 21,
   "metadata": {},
   "outputs": [],
   "source": [
    "L_one.append(10)"
   ]
  },
  {
   "cell_type": "code",
   "execution_count": 22,
   "metadata": {},
   "outputs": [
    {
     "name": "stdout",
     "output_type": "stream",
     "text": [
      "[1, 2, 3, 4, 5, 6, 7, 8, 9, 'The thing that I want to append', 10, 10, 10, 10, 10]\n"
     ]
    }
   ],
   "source": [
    "print(L_one)"
   ]
  },
  {
   "cell_type": "raw",
   "metadata": {},
   "source": [
    "#Remove Function"
   ]
  },
  {
   "cell_type": "code",
   "execution_count": 23,
   "metadata": {},
   "outputs": [],
   "source": [
    "L_one.remove(1)"
   ]
  },
  {
   "cell_type": "code",
   "execution_count": 24,
   "metadata": {},
   "outputs": [
    {
     "data": {
      "text/plain": [
       "[2, 3, 4, 5, 6, 7, 8, 9, 'The thing that I want to append', 10, 10, 10, 10, 10]"
      ]
     },
     "execution_count": 24,
     "metadata": {},
     "output_type": "execute_result"
    }
   ],
   "source": [
    "L_one"
   ]
  },
  {
   "cell_type": "code",
   "execution_count": 25,
   "metadata": {},
   "outputs": [],
   "source": [
    "L_one.remove(5)"
   ]
  },
  {
   "cell_type": "code",
   "execution_count": 26,
   "metadata": {},
   "outputs": [
    {
     "data": {
      "text/plain": [
       "[2, 3, 4, 6, 7, 8, 9, 'The thing that I want to append', 10, 10, 10, 10, 10]"
      ]
     },
     "execution_count": 26,
     "metadata": {},
     "output_type": "execute_result"
    }
   ],
   "source": [
    "L_one"
   ]
  },
  {
   "cell_type": "code",
   "execution_count": 27,
   "metadata": {},
   "outputs": [],
   "source": [
    "L_one.remove(10)"
   ]
  },
  {
   "cell_type": "code",
   "execution_count": 28,
   "metadata": {},
   "outputs": [
    {
     "data": {
      "text/plain": [
       "[2, 3, 4, 6, 7, 8, 9, 'The thing that I want to append', 10, 10, 10, 10]"
      ]
     },
     "execution_count": 28,
     "metadata": {},
     "output_type": "execute_result"
    }
   ],
   "source": [
    "L_one"
   ]
  },
  {
   "cell_type": "raw",
   "metadata": {},
   "source": [
    "Lists are Mutable - We could remove & add\n",
    "#Tuples are Immutable - We can't"
   ]
  },
  {
   "cell_type": "code",
   "execution_count": 29,
   "metadata": {},
   "outputs": [],
   "source": [
    "T_one = (1,2,3,4)"
   ]
  },
  {
   "cell_type": "code",
   "execution_count": 30,
   "metadata": {},
   "outputs": [
    {
     "data": {
      "text/plain": [
       "(1, 2, 3, 4)"
      ]
     },
     "execution_count": 30,
     "metadata": {},
     "output_type": "execute_result"
    }
   ],
   "source": [
    "T_one"
   ]
  },
  {
   "cell_type": "raw",
   "metadata": {},
   "source": [
    "#Lists are mutable"
   ]
  },
  {
   "cell_type": "code",
   "execution_count": 46,
   "metadata": {},
   "outputs": [],
   "source": [
    "test_list = [1,2,3]"
   ]
  },
  {
   "cell_type": "code",
   "execution_count": 48,
   "metadata": {},
   "outputs": [
    {
     "data": {
      "text/plain": [
       "4473474176"
      ]
     },
     "execution_count": 48,
     "metadata": {},
     "output_type": "execute_result"
    }
   ],
   "source": [
    "id(test_list)  //To find address of the memory location"
   ]
  },
  {
   "cell_type": "code",
   "execution_count": 49,
   "metadata": {},
   "outputs": [],
   "source": [
    "test_list[0] = \"Python\""
   ]
  },
  {
   "cell_type": "code",
   "execution_count": 50,
   "metadata": {},
   "outputs": [
    {
     "data": {
      "text/plain": [
       "['Python', 2, 3]"
      ]
     },
     "execution_count": 50,
     "metadata": {},
     "output_type": "execute_result"
    }
   ],
   "source": [
    "test_list"
   ]
  },
  {
   "cell_type": "code",
   "execution_count": 51,
   "metadata": {},
   "outputs": [
    {
     "data": {
      "text/plain": [
       "4473474176"
      ]
     },
     "execution_count": 51,
     "metadata": {},
     "output_type": "execute_result"
    }
   ],
   "source": [
    "id(test_list)"
   ]
  },
  {
   "cell_type": "raw",
   "metadata": {},
   "source": [
    "O/p will give same address of the memory location"
   ]
  },
  {
   "cell_type": "markdown",
   "metadata": {},
   "source": [
    "# Tuples are immutable"
   ]
  },
  {
   "cell_type": "code",
   "execution_count": 54,
   "metadata": {},
   "outputs": [],
   "source": [
    "test_tuple = (1,2,3)"
   ]
  },
  {
   "cell_type": "code",
   "execution_count": 55,
   "metadata": {},
   "outputs": [
    {
     "data": {
      "text/plain": [
       "4473513696"
      ]
     },
     "execution_count": 55,
     "metadata": {},
     "output_type": "execute_result"
    }
   ],
   "source": [
    "id(test_tuple)"
   ]
  },
  {
   "cell_type": "code",
   "execution_count": 60,
   "metadata": {},
   "outputs": [],
   "source": [
    "test_tuple = (\"Python\", 2,3)"
   ]
  },
  {
   "cell_type": "code",
   "execution_count": 61,
   "metadata": {},
   "outputs": [
    {
     "data": {
      "text/plain": [
       "4471240656"
      ]
     },
     "execution_count": 61,
     "metadata": {},
     "output_type": "execute_result"
    }
   ],
   "source": [
    "id(test_tuple)"
   ]
  },
  {
   "cell_type": "raw",
   "metadata": {},
   "source": [
    "O/p will give different addresses of memory location. Both addresses are different."
   ]
  },
  {
   "cell_type": "raw",
   "metadata": {},
   "source": [
    "Why do we need mutable & immutable?\n",
    "1. creating a list --> Faster --> mutable. It won't create another memory location. \n",
    "2. creating tuple --> easy to debug --> to remove errors tuples are good.\n",
    "3. Memory efficient\n",
    "   Tuple- more Efficient.  List- less efficient\n",
    "   occupies Less mem .     occupies More mem   \n",
    "Both mutability and immutability have their own advantages & disadvantages.  "
   ]
  },
  {
   "cell_type": "markdown",
   "metadata": {},
   "source": [
    "# Set"
   ]
  },
  {
   "cell_type": "code",
   "execution_count": 62,
   "metadata": {},
   "outputs": [],
   "source": [
    "# Set : Unique collection of elements"
   ]
  },
  {
   "cell_type": "raw",
   "metadata": {},
   "source": [
    "There are 2 ways to make set\n",
    "\n",
    "1. Create"
   ]
  },
  {
   "cell_type": "code",
   "execution_count": 64,
   "metadata": {},
   "outputs": [],
   "source": [
    "A = {1,2,3,4}"
   ]
  },
  {
   "cell_type": "raw",
   "metadata": {},
   "source": [
    "2. convert list into a set"
   ]
  },
  {
   "cell_type": "code",
   "execution_count": 79,
   "metadata": {},
   "outputs": [],
   "source": [
    "L = [4,5,6]"
   ]
  },
  {
   "cell_type": "code",
   "execution_count": 80,
   "metadata": {},
   "outputs": [
    {
     "data": {
      "text/plain": [
       "{4, 5, 6}"
      ]
     },
     "execution_count": 80,
     "metadata": {},
     "output_type": "execute_result"
    }
   ],
   "source": [
    "set(L)"
   ]
  },
  {
   "cell_type": "raw",
   "metadata": {},
   "source": [
    "Applications of set:\n",
    "    Mutable - We can change the elements\n",
    "    We can access the set elements like lists by writing index\n",
    "    Set no duplicate elements\n",
    "    set([4,4,3,2])  conv list --> set \n",
    "    O/p : {4,3,2}   there are no duplicate elmts\n",
    "    whenever you want to have unique elmts out of lists, this is a good way."
   ]
  },
  {
   "cell_type": "code",
   "execution_count": 81,
   "metadata": {},
   "outputs": [],
   "source": [
    "test_set = set(test_list)"
   ]
  },
  {
   "cell_type": "code",
   "execution_count": 82,
   "metadata": {},
   "outputs": [
    {
     "data": {
      "text/plain": [
       "{2, 3, 'Python'}"
      ]
     },
     "execution_count": 82,
     "metadata": {},
     "output_type": "execute_result"
    }
   ],
   "source": [
    "test_set"
   ]
  },
  {
   "cell_type": "code",
   "execution_count": 84,
   "metadata": {},
   "outputs": [],
   "source": [
    "a = {1,2,3,3,3,3,3,4}"
   ]
  },
  {
   "cell_type": "code",
   "execution_count": 85,
   "metadata": {},
   "outputs": [
    {
     "data": {
      "text/plain": [
       "{1, 2, 3, 4}"
      ]
     },
     "execution_count": 85,
     "metadata": {},
     "output_type": "execute_result"
    }
   ],
   "source": [
    "a"
   ]
  },
  {
   "cell_type": "raw",
   "metadata": {},
   "source": [
    "Im Mathematics, Special opearations of set\n",
    "1. Union\n",
    "2.Intersection\n",
    "3. Difference"
   ]
  },
  {
   "cell_type": "code",
   "execution_count": 86,
   "metadata": {},
   "outputs": [],
   "source": [
    "#Union function"
   ]
  },
  {
   "cell_type": "code",
   "execution_count": 92,
   "metadata": {},
   "outputs": [],
   "source": [
    "a = {1,2,3,4}\n",
    "b = {4,5,6}"
   ]
  },
  {
   "cell_type": "code",
   "execution_count": 93,
   "metadata": {},
   "outputs": [
    {
     "data": {
      "text/plain": [
       "{1, 2, 3, 4, 5, 6}"
      ]
     },
     "execution_count": 93,
     "metadata": {},
     "output_type": "execute_result"
    }
   ],
   "source": [
    "a.union(b)"
   ]
  },
  {
   "cell_type": "code",
   "execution_count": 94,
   "metadata": {},
   "outputs": [
    {
     "data": {
      "text/plain": [
       "{4}"
      ]
     },
     "execution_count": 94,
     "metadata": {},
     "output_type": "execute_result"
    }
   ],
   "source": [
    "a.intersection(b)"
   ]
  },
  {
   "cell_type": "code",
   "execution_count": 95,
   "metadata": {},
   "outputs": [
    {
     "data": {
      "text/plain": [
       "{1, 2, 3}"
      ]
     },
     "execution_count": 95,
     "metadata": {},
     "output_type": "execute_result"
    }
   ],
   "source": [
    "a.difference(b)"
   ]
  },
  {
   "cell_type": "code",
   "execution_count": 96,
   "metadata": {},
   "outputs": [],
   "source": [
    "#Dictionary : Unordered collection of data values used to store data values like a map."
   ]
  },
  {
   "cell_type": "code",
   "execution_count": 97,
   "metadata": {},
   "outputs": [],
   "source": [
    "List = [2,3,4,5]"
   ]
  },
  {
   "cell_type": "code",
   "execution_count": 98,
   "metadata": {},
   "outputs": [],
   "source": [
    "d = {'A':10, 'B':20}"
   ]
  },
  {
   "cell_type": "code",
   "execution_count": 99,
   "metadata": {},
   "outputs": [
    {
     "data": {
      "text/plain": [
       "{'A': 10, 'B': 20}"
      ]
     },
     "execution_count": 99,
     "metadata": {},
     "output_type": "execute_result"
    }
   ],
   "source": [
    "d"
   ]
  },
  {
   "cell_type": "code",
   "execution_count": 100,
   "metadata": {},
   "outputs": [
    {
     "data": {
      "text/plain": [
       "10"
      ]
     },
     "execution_count": 100,
     "metadata": {},
     "output_type": "execute_result"
    }
   ],
   "source": [
    "d['A']"
   ]
  },
  {
   "cell_type": "code",
   "execution_count": 101,
   "metadata": {},
   "outputs": [
    {
     "data": {
      "text/plain": [
       "20"
      ]
     },
     "execution_count": 101,
     "metadata": {},
     "output_type": "execute_result"
    }
   ],
   "source": [
    "d['B']"
   ]
  },
  {
   "cell_type": "raw",
   "metadata": {},
   "source": [
    "Can combine two lists as well"
   ]
  },
  {
   "cell_type": "code",
   "execution_count": 103,
   "metadata": {},
   "outputs": [
    {
     "data": {
      "text/plain": [
       "{'A': 1, 'B': 2, 'C': 3}"
      ]
     },
     "execution_count": 103,
     "metadata": {},
     "output_type": "execute_result"
    }
   ],
   "source": [
    "dict(zip(['A','B','C'], [1,2,3]))"
   ]
  },
  {
   "cell_type": "raw",
   "metadata": {},
   "source": [
    "This zip function assigns all the elements together"
   ]
  },
  {
   "cell_type": "raw",
   "metadata": {},
   "source": [
    "How to add elements to dictionary"
   ]
  },
  {
   "cell_type": "code",
   "execution_count": 105,
   "metadata": {},
   "outputs": [],
   "source": [
    "temp_d = dict(zip(['A','B','C'], [1,2,3]))"
   ]
  },
  {
   "cell_type": "code",
   "execution_count": 106,
   "metadata": {},
   "outputs": [],
   "source": [
    "temp_d['A'] = 100"
   ]
  },
  {
   "cell_type": "code",
   "execution_count": 107,
   "metadata": {},
   "outputs": [
    {
     "data": {
      "text/plain": [
       "{'A': 100, 'B': 2, 'C': 3}"
      ]
     },
     "execution_count": 107,
     "metadata": {},
     "output_type": "execute_result"
    }
   ],
   "source": [
    "temp_d"
   ]
  },
  {
   "cell_type": "raw",
   "metadata": {},
   "source": [
    "To add new key value pair"
   ]
  },
  {
   "cell_type": "code",
   "execution_count": 108,
   "metadata": {},
   "outputs": [],
   "source": [
    "temp_d['new_key'] = 500"
   ]
  },
  {
   "cell_type": "code",
   "execution_count": 109,
   "metadata": {},
   "outputs": [
    {
     "data": {
      "text/plain": [
       "{'A': 100, 'B': 2, 'C': 3, 'new_key': 500}"
      ]
     },
     "execution_count": 109,
     "metadata": {},
     "output_type": "execute_result"
    }
   ],
   "source": [
    "temp_d"
   ]
  },
  {
   "cell_type": "raw",
   "metadata": {},
   "source": [
    "To delete or remove from dictionary"
   ]
  },
  {
   "cell_type": "code",
   "execution_count": 111,
   "metadata": {},
   "outputs": [],
   "source": [
    "del temp_d['new_key']"
   ]
  },
  {
   "cell_type": "code",
   "execution_count": 112,
   "metadata": {},
   "outputs": [
    {
     "data": {
      "text/plain": [
       "{'A': 100, 'B': 2, 'C': 3}"
      ]
     },
     "execution_count": 112,
     "metadata": {},
     "output_type": "execute_result"
    }
   ],
   "source": [
    "temp_d"
   ]
  },
  {
   "cell_type": "code",
   "execution_count": 113,
   "metadata": {},
   "outputs": [
    {
     "data": {
      "text/plain": [
       "dict_keys(['A', 'B', 'C'])"
      ]
     },
     "execution_count": 113,
     "metadata": {},
     "output_type": "execute_result"
    }
   ],
   "source": [
    "temp_d.keys()"
   ]
  },
  {
   "cell_type": "code",
   "execution_count": 114,
   "metadata": {},
   "outputs": [
    {
     "data": {
      "text/plain": [
       "dict_values([100, 2, 3])"
      ]
     },
     "execution_count": 114,
     "metadata": {},
     "output_type": "execute_result"
    }
   ],
   "source": [
    "temp_d.values()"
   ]
  },
  {
   "cell_type": "raw",
   "metadata": {},
   "source": [
    "#pop function removes the function depending upon the key that we had provided & it returns the removed value"
   ]
  },
  {
   "cell_type": "code",
   "execution_count": 115,
   "metadata": {},
   "outputs": [
    {
     "data": {
      "text/plain": [
       "2"
      ]
     },
     "execution_count": 115,
     "metadata": {},
     "output_type": "execute_result"
    }
   ],
   "source": [
    "temp_d.pop('B')"
   ]
  },
  {
   "cell_type": "code",
   "execution_count": 116,
   "metadata": {},
   "outputs": [
    {
     "data": {
      "text/plain": [
       "{'A': 100, 'C': 3}"
      ]
     },
     "execution_count": 116,
     "metadata": {},
     "output_type": "execute_result"
    }
   ],
   "source": [
    "temp_d"
   ]
  },
  {
   "cell_type": "code",
   "execution_count": 117,
   "metadata": {},
   "outputs": [
    {
     "data": {
      "text/plain": [
       "100"
      ]
     },
     "execution_count": 117,
     "metadata": {},
     "output_type": "execute_result"
    }
   ],
   "source": [
    "temp_d.pop('A')"
   ]
  },
  {
   "cell_type": "code",
   "execution_count": 118,
   "metadata": {},
   "outputs": [
    {
     "data": {
      "text/plain": [
       "{'C': 3}"
      ]
     },
     "execution_count": 118,
     "metadata": {},
     "output_type": "execute_result"
    }
   ],
   "source": [
    "temp_d"
   ]
  },
  {
   "cell_type": "code",
   "execution_count": 119,
   "metadata": {},
   "outputs": [
    {
     "data": {
      "text/plain": [
       "{'A': 1, 'B': 2, 'C': 3, 'D': 4, 'E': 5, 'F': 6}"
      ]
     },
     "execution_count": 119,
     "metadata": {},
     "output_type": "execute_result"
    }
   ],
   "source": [
    "dict(zip(['A','B','C','D','E','F'],[1,2,3,4,5,6]))"
   ]
  },
  {
   "cell_type": "code",
   "execution_count": 120,
   "metadata": {},
   "outputs": [],
   "source": [
    "d = dict(zip(['A','B','C','D','E','F'],[1,2,3,4,5,6]))"
   ]
  },
  {
   "cell_type": "code",
   "execution_count": 121,
   "metadata": {},
   "outputs": [
    {
     "data": {
      "text/plain": [
       "('F', 6)"
      ]
     },
     "execution_count": 121,
     "metadata": {},
     "output_type": "execute_result"
    }
   ],
   "source": [
    "d.popitem()  //popitem removes last elements in the dictionary"
   ]
  },
  {
   "cell_type": "code",
   "execution_count": 122,
   "metadata": {},
   "outputs": [
    {
     "data": {
      "text/plain": [
       "{'A': 1, 'B': 2, 'C': 3, 'D': 4, 'E': 5}"
      ]
     },
     "execution_count": 122,
     "metadata": {},
     "output_type": "execute_result"
    }
   ],
   "source": [
    "d"
   ]
  },
  {
   "cell_type": "code",
   "execution_count": 123,
   "metadata": {},
   "outputs": [
    {
     "data": {
      "text/plain": [
       "('E', 5)"
      ]
     },
     "execution_count": 123,
     "metadata": {},
     "output_type": "execute_result"
    }
   ],
   "source": [
    "d.popitem()"
   ]
  },
  {
   "cell_type": "code",
   "execution_count": 124,
   "metadata": {},
   "outputs": [
    {
     "data": {
      "text/plain": [
       "{'A': 1, 'B': 2, 'C': 3, 'D': 4}"
      ]
     },
     "execution_count": 124,
     "metadata": {},
     "output_type": "execute_result"
    }
   ],
   "source": [
    "d"
   ]
  },
  {
   "cell_type": "code",
   "execution_count": 125,
   "metadata": {},
   "outputs": [
    {
     "data": {
      "text/plain": [
       "('D', 4)"
      ]
     },
     "execution_count": 125,
     "metadata": {},
     "output_type": "execute_result"
    }
   ],
   "source": [
    "d.popitem()"
   ]
  },
  {
   "cell_type": "code",
   "execution_count": 126,
   "metadata": {},
   "outputs": [
    {
     "data": {
      "text/plain": [
       "{'A': 1, 'B': 2, 'C': 3}"
      ]
     },
     "execution_count": 126,
     "metadata": {},
     "output_type": "execute_result"
    }
   ],
   "source": [
    "d"
   ]
  },
  {
   "cell_type": "code",
   "execution_count": 127,
   "metadata": {},
   "outputs": [],
   "source": [
    "d.clear()   //clears all dictionary elements"
   ]
  },
  {
   "cell_type": "code",
   "execution_count": 128,
   "metadata": {},
   "outputs": [
    {
     "data": {
      "text/plain": [
       "{}"
      ]
     },
     "execution_count": 128,
     "metadata": {},
     "output_type": "execute_result"
    }
   ],
   "source": [
    "d"
   ]
  },
  {
   "cell_type": "markdown",
   "metadata": {},
   "source": [
    "# Conditional Statements"
   ]
  },
  {
   "cell_type": "code",
   "execution_count": 206,
   "metadata": {},
   "outputs": [
    {
     "name": "stdout",
     "output_type": "stream",
     "text": [
      "{'a': 40, 'b': 41, 'c': 42, 'd': 36, 'e': 46, 'f': 21, 'g': 51, 'h': 36, 'i': 30, 'j': 4, 'k': 9, 'l': 39, 'm': 38, 'n': 57, 'o': 1, 'p': 55, 'q': 23, 'r': 31, 's': 38, 't': 58, 'u': 50, 'v': 22, 'w': 54, 'x': 7, 'y': 29, 'z': 13}\n"
     ]
    }
   ],
   "source": [
    "import numpy as np\n",
    "alpha = 'a'\n",
    "names = []\n",
    "for i in range (0,26):\n",
    "    names.append(alpha)\n",
    "    alpha = chr(ord(alpha)+1)\n",
    "ages = np.random.randint(0,60, size=26)\n",
    "data = dict(zip(names, ages))\n",
    "print(data)"
   ]
  },
  {
   "cell_type": "code",
   "execution_count": 176,
   "metadata": {},
   "outputs": [
    {
     "name": "stdout",
     "output_type": "stream",
     "text": [
      "Child List: [{'e': 8}]\n",
      "Teens List: []\n",
      "Adults List: []\n"
     ]
    }
   ],
   "source": [
    "name = 'e'\n",
    "age = data[name]\n",
    "child = []\n",
    "teens = []\n",
    "adults = []\n",
    "if (age < 13):\n",
    "    child.append({name:data[name]})\n",
    "elif (age <18):\n",
    "    teems.append({name:data[name]})\n",
    "else:\n",
    "    adults.append({name:data[name]})\n",
    "\n",
    "print('Child List:', child)\n",
    "print('Teens List:', teens)\n",
    "print('Adults List:', adults)"
   ]
  },
  {
   "cell_type": "markdown",
   "metadata": {},
   "source": [
    "# Loops & Functions"
   ]
  },
  {
   "cell_type": "code",
   "execution_count": 135,
   "metadata": {},
   "outputs": [
    {
     "name": "stdout",
     "output_type": "stream",
     "text": [
      "Python\n",
      "Python\n",
      "Python\n",
      "Python\n",
      "Python\n"
     ]
    }
   ],
   "source": [
    "for iterator in range(5):\n",
    "    print(\"Python\")"
   ]
  },
  {
   "cell_type": "code",
   "execution_count": 137,
   "metadata": {},
   "outputs": [
    {
     "name": "stdout",
     "output_type": "stream",
     "text": [
      "Python 0\n",
      "Python 1\n",
      "Python 2\n",
      "Python 3\n",
      "Python 4\n"
     ]
    }
   ],
   "source": [
    "for iterator in range(5):\n",
    "    print(\"Python\", iterator)"
   ]
  },
  {
   "cell_type": "code",
   "execution_count": 183,
   "metadata": {},
   "outputs": [
    {
     "name": "stdout",
     "output_type": "stream",
     "text": [
      "Child List: [{'e': 8}, {'f': 5}, {'o': 6}, {'q': 0}, {'r': 4}, {'s': 10}, {'t': 10}, {'y': 4}, {'z': 12}]\n",
      "Teens List: [{'b': 17}, {'n': 13}, {'v': 13}]\n",
      "Adults List: [{'a': 49}, {'c': 47}, {'d': 52}, {'g': 18}, {'h': 55}, {'i': 42}, {'j': 37}, {'k': 34}, {'l': 54}, {'m': 38}, {'p': 53}, {'u': 51}, {'w': 52}, {'x': 40}]\n"
     ]
    }
   ],
   "source": [
    "child = []\n",
    "teens = []\n",
    "adults = []\n",
    "\n",
    "for iterator in range(26):\n",
    "  name = names[iterator]\n",
    "  age = data[name]\n",
    "\n",
    "  if (age < 13):\n",
    "    child.append({name:data[name]})\n",
    "  elif (age <18):\n",
    "    teens.append({name:data[name]})\n",
    "  else:\n",
    "    adults.append({name:data[name]})\n",
    "    \n",
    "print('Child List:', child)\n",
    "print('Teens List:', teens)\n",
    "print('Adults List:', adults)"
   ]
  },
  {
   "cell_type": "code",
   "execution_count": 161,
   "metadata": {},
   "outputs": [
    {
     "name": "stdout",
     "output_type": "stream",
     "text": [
      "Python\n",
      "Python\n",
      "Python\n",
      "Python\n",
      "Python\n",
      "Python\n",
      "Python\n",
      "Python\n",
      "Python\n",
      "Python\n"
     ]
    }
   ],
   "source": [
    "i = 0\n",
    "while (i<10):\n",
    "    print(\"Python\")\n",
    "    i+=1"
   ]
  },
  {
   "cell_type": "code",
   "execution_count": 163,
   "metadata": {},
   "outputs": [
    {
     "name": "stdout",
     "output_type": "stream",
     "text": [
      "Python 0\n",
      "Python 50\n",
      "Python 100\n",
      "Python 150\n",
      "Loop ended, current value of i: 200\n"
     ]
    }
   ],
   "source": [
    "i = 0\n",
    "while (i<200):\n",
    "    print(\"Python\", i)\n",
    "    i = i+50\n",
    "print(\"Loop ended, current value of i:\", i)"
   ]
  },
  {
   "cell_type": "code",
   "execution_count": 165,
   "metadata": {},
   "outputs": [
    {
     "name": "stdout",
     "output_type": "stream",
     "text": [
      "Python 1000\n",
      "Python 900\n",
      "Python 800\n",
      "Python 700\n",
      "Python 600\n",
      "Python 500\n",
      "Python 400\n",
      "Python 300\n",
      "Loop ended, current value of i: 200\n"
     ]
    }
   ],
   "source": [
    "i = 1000\n",
    "while (i>200):\n",
    "    print(\"Python\", i)\n",
    "    i = i-100\n",
    "print(\"Loop ended, current value of i:\", i)"
   ]
  },
  {
   "cell_type": "raw",
   "metadata": {},
   "source": [
    "Functions"
   ]
  },
  {
   "cell_type": "code",
   "execution_count": 166,
   "metadata": {},
   "outputs": [],
   "source": [
    "def func():\n",
    "    print(\"Python\")\n",
    "    for i in range (5):\n",
    "        print(\"Python is COOL!\")   "
   ]
  },
  {
   "cell_type": "code",
   "execution_count": 167,
   "metadata": {},
   "outputs": [
    {
     "name": "stdout",
     "output_type": "stream",
     "text": [
      "Python\n",
      "Python is COOL!\n",
      "Python is COOL!\n",
      "Python is COOL!\n",
      "Python is COOL!\n",
      "Python is COOL!\n"
     ]
    }
   ],
   "source": [
    "func()"
   ]
  },
  {
   "cell_type": "code",
   "execution_count": 171,
   "metadata": {},
   "outputs": [],
   "source": [
    "def python_func():\n",
    "    print(\"Python\")\n",
    "    for i in range (5):\n",
    "        print(\"Python is COOL!\", i)"
   ]
  },
  {
   "cell_type": "code",
   "execution_count": 172,
   "metadata": {},
   "outputs": [
    {
     "name": "stdout",
     "output_type": "stream",
     "text": [
      "Python\n",
      "Python is COOL! 0\n",
      "Python is COOL! 1\n",
      "Python is COOL! 2\n",
      "Python is COOL! 3\n",
      "Python is COOL! 4\n"
     ]
    }
   ],
   "source": [
    "python_func()"
   ]
  },
  {
   "cell_type": "code",
   "execution_count": 196,
   "metadata": {},
   "outputs": [
    {
     "name": "stdout",
     "output_type": "stream",
     "text": [
      "Child List: [{'e': 8}, {'f': 5}, {'o': 6}, {'q': 0}, {'r': 4}, {'s': 10}, {'t': 10}, {'y': 4}, {'z': 12}]\n",
      "Teens List: [{'b': 17}, {'n': 13}, {'v': 13}]\n",
      "Adults List: [{'a': 49}, {'c': 47}, {'d': 52}, {'g': 18}, {'h': 55}, {'i': 42}, {'j': 37}, {'k': 34}, {'l': 54}, {'m': 38}, {'p': 53}, {'u': 51}, {'w': 52}, {'x': 40}, {'a': 49}]\n",
      "Child List: [{'e': 8}, {'f': 5}, {'o': 6}, {'q': 0}, {'r': 4}, {'s': 10}, {'t': 10}, {'y': 4}, {'z': 12}]\n",
      "Teens List: [{'b': 17}, {'n': 13}, {'v': 13}, {'b': 17}]\n",
      "Adults List: [{'a': 49}, {'c': 47}, {'d': 52}, {'g': 18}, {'h': 55}, {'i': 42}, {'j': 37}, {'k': 34}, {'l': 54}, {'m': 38}, {'p': 53}, {'u': 51}, {'w': 52}, {'x': 40}, {'a': 49}]\n",
      "Child List: [{'e': 8}, {'f': 5}, {'o': 6}, {'q': 0}, {'r': 4}, {'s': 10}, {'t': 10}, {'y': 4}, {'z': 12}]\n",
      "Teens List: [{'b': 17}, {'n': 13}, {'v': 13}, {'b': 17}]\n",
      "Adults List: [{'a': 49}, {'c': 47}, {'d': 52}, {'g': 18}, {'h': 55}, {'i': 42}, {'j': 37}, {'k': 34}, {'l': 54}, {'m': 38}, {'p': 53}, {'u': 51}, {'w': 52}, {'x': 40}, {'a': 49}, {'c': 47}]\n",
      "Child List: [{'e': 8}, {'f': 5}, {'o': 6}, {'q': 0}, {'r': 4}, {'s': 10}, {'t': 10}, {'y': 4}, {'z': 12}]\n",
      "Teens List: [{'b': 17}, {'n': 13}, {'v': 13}, {'b': 17}]\n",
      "Adults List: [{'a': 49}, {'c': 47}, {'d': 52}, {'g': 18}, {'h': 55}, {'i': 42}, {'j': 37}, {'k': 34}, {'l': 54}, {'m': 38}, {'p': 53}, {'u': 51}, {'w': 52}, {'x': 40}, {'a': 49}, {'c': 47}, {'d': 52}]\n",
      "Child List: [{'e': 8}, {'f': 5}, {'o': 6}, {'q': 0}, {'r': 4}, {'s': 10}, {'t': 10}, {'y': 4}, {'z': 12}, {'e': 8}]\n",
      "Teens List: [{'b': 17}, {'n': 13}, {'v': 13}, {'b': 17}]\n",
      "Adults List: [{'a': 49}, {'c': 47}, {'d': 52}, {'g': 18}, {'h': 55}, {'i': 42}, {'j': 37}, {'k': 34}, {'l': 54}, {'m': 38}, {'p': 53}, {'u': 51}, {'w': 52}, {'x': 40}, {'a': 49}, {'c': 47}, {'d': 52}]\n",
      "Child List: [{'e': 8}, {'f': 5}, {'o': 6}, {'q': 0}, {'r': 4}, {'s': 10}, {'t': 10}, {'y': 4}, {'z': 12}, {'e': 8}, {'f': 5}]\n",
      "Teens List: [{'b': 17}, {'n': 13}, {'v': 13}, {'b': 17}]\n",
      "Adults List: [{'a': 49}, {'c': 47}, {'d': 52}, {'g': 18}, {'h': 55}, {'i': 42}, {'j': 37}, {'k': 34}, {'l': 54}, {'m': 38}, {'p': 53}, {'u': 51}, {'w': 52}, {'x': 40}, {'a': 49}, {'c': 47}, {'d': 52}]\n",
      "Child List: [{'e': 8}, {'f': 5}, {'o': 6}, {'q': 0}, {'r': 4}, {'s': 10}, {'t': 10}, {'y': 4}, {'z': 12}, {'e': 8}, {'f': 5}]\n",
      "Teens List: [{'b': 17}, {'n': 13}, {'v': 13}, {'b': 17}]\n",
      "Adults List: [{'a': 49}, {'c': 47}, {'d': 52}, {'g': 18}, {'h': 55}, {'i': 42}, {'j': 37}, {'k': 34}, {'l': 54}, {'m': 38}, {'p': 53}, {'u': 51}, {'w': 52}, {'x': 40}, {'a': 49}, {'c': 47}, {'d': 52}, {'g': 18}]\n",
      "Child List: [{'e': 8}, {'f': 5}, {'o': 6}, {'q': 0}, {'r': 4}, {'s': 10}, {'t': 10}, {'y': 4}, {'z': 12}, {'e': 8}, {'f': 5}]\n",
      "Teens List: [{'b': 17}, {'n': 13}, {'v': 13}, {'b': 17}]\n",
      "Adults List: [{'a': 49}, {'c': 47}, {'d': 52}, {'g': 18}, {'h': 55}, {'i': 42}, {'j': 37}, {'k': 34}, {'l': 54}, {'m': 38}, {'p': 53}, {'u': 51}, {'w': 52}, {'x': 40}, {'a': 49}, {'c': 47}, {'d': 52}, {'g': 18}, {'h': 55}]\n",
      "Child List: [{'e': 8}, {'f': 5}, {'o': 6}, {'q': 0}, {'r': 4}, {'s': 10}, {'t': 10}, {'y': 4}, {'z': 12}, {'e': 8}, {'f': 5}]\n",
      "Teens List: [{'b': 17}, {'n': 13}, {'v': 13}, {'b': 17}]\n",
      "Adults List: [{'a': 49}, {'c': 47}, {'d': 52}, {'g': 18}, {'h': 55}, {'i': 42}, {'j': 37}, {'k': 34}, {'l': 54}, {'m': 38}, {'p': 53}, {'u': 51}, {'w': 52}, {'x': 40}, {'a': 49}, {'c': 47}, {'d': 52}, {'g': 18}, {'h': 55}, {'i': 42}]\n",
      "Child List: [{'e': 8}, {'f': 5}, {'o': 6}, {'q': 0}, {'r': 4}, {'s': 10}, {'t': 10}, {'y': 4}, {'z': 12}, {'e': 8}, {'f': 5}]\n",
      "Teens List: [{'b': 17}, {'n': 13}, {'v': 13}, {'b': 17}]\n",
      "Adults List: [{'a': 49}, {'c': 47}, {'d': 52}, {'g': 18}, {'h': 55}, {'i': 42}, {'j': 37}, {'k': 34}, {'l': 54}, {'m': 38}, {'p': 53}, {'u': 51}, {'w': 52}, {'x': 40}, {'a': 49}, {'c': 47}, {'d': 52}, {'g': 18}, {'h': 55}, {'i': 42}, {'j': 37}]\n",
      "Child List: [{'e': 8}, {'f': 5}, {'o': 6}, {'q': 0}, {'r': 4}, {'s': 10}, {'t': 10}, {'y': 4}, {'z': 12}, {'e': 8}, {'f': 5}]\n",
      "Teens List: [{'b': 17}, {'n': 13}, {'v': 13}, {'b': 17}]\n",
      "Adults List: [{'a': 49}, {'c': 47}, {'d': 52}, {'g': 18}, {'h': 55}, {'i': 42}, {'j': 37}, {'k': 34}, {'l': 54}, {'m': 38}, {'p': 53}, {'u': 51}, {'w': 52}, {'x': 40}, {'a': 49}, {'c': 47}, {'d': 52}, {'g': 18}, {'h': 55}, {'i': 42}, {'j': 37}, {'k': 34}]\n",
      "Child List: [{'e': 8}, {'f': 5}, {'o': 6}, {'q': 0}, {'r': 4}, {'s': 10}, {'t': 10}, {'y': 4}, {'z': 12}, {'e': 8}, {'f': 5}]\n",
      "Teens List: [{'b': 17}, {'n': 13}, {'v': 13}, {'b': 17}]\n",
      "Adults List: [{'a': 49}, {'c': 47}, {'d': 52}, {'g': 18}, {'h': 55}, {'i': 42}, {'j': 37}, {'k': 34}, {'l': 54}, {'m': 38}, {'p': 53}, {'u': 51}, {'w': 52}, {'x': 40}, {'a': 49}, {'c': 47}, {'d': 52}, {'g': 18}, {'h': 55}, {'i': 42}, {'j': 37}, {'k': 34}, {'l': 54}]\n",
      "Child List: [{'e': 8}, {'f': 5}, {'o': 6}, {'q': 0}, {'r': 4}, {'s': 10}, {'t': 10}, {'y': 4}, {'z': 12}, {'e': 8}, {'f': 5}]\n",
      "Teens List: [{'b': 17}, {'n': 13}, {'v': 13}, {'b': 17}]\n",
      "Adults List: [{'a': 49}, {'c': 47}, {'d': 52}, {'g': 18}, {'h': 55}, {'i': 42}, {'j': 37}, {'k': 34}, {'l': 54}, {'m': 38}, {'p': 53}, {'u': 51}, {'w': 52}, {'x': 40}, {'a': 49}, {'c': 47}, {'d': 52}, {'g': 18}, {'h': 55}, {'i': 42}, {'j': 37}, {'k': 34}, {'l': 54}, {'m': 38}]\n",
      "Child List: [{'e': 8}, {'f': 5}, {'o': 6}, {'q': 0}, {'r': 4}, {'s': 10}, {'t': 10}, {'y': 4}, {'z': 12}, {'e': 8}, {'f': 5}]\n",
      "Teens List: [{'b': 17}, {'n': 13}, {'v': 13}, {'b': 17}, {'n': 13}]\n",
      "Adults List: [{'a': 49}, {'c': 47}, {'d': 52}, {'g': 18}, {'h': 55}, {'i': 42}, {'j': 37}, {'k': 34}, {'l': 54}, {'m': 38}, {'p': 53}, {'u': 51}, {'w': 52}, {'x': 40}, {'a': 49}, {'c': 47}, {'d': 52}, {'g': 18}, {'h': 55}, {'i': 42}, {'j': 37}, {'k': 34}, {'l': 54}, {'m': 38}]\n",
      "Child List: [{'e': 8}, {'f': 5}, {'o': 6}, {'q': 0}, {'r': 4}, {'s': 10}, {'t': 10}, {'y': 4}, {'z': 12}, {'e': 8}, {'f': 5}, {'o': 6}]\n",
      "Teens List: [{'b': 17}, {'n': 13}, {'v': 13}, {'b': 17}, {'n': 13}]\n",
      "Adults List: [{'a': 49}, {'c': 47}, {'d': 52}, {'g': 18}, {'h': 55}, {'i': 42}, {'j': 37}, {'k': 34}, {'l': 54}, {'m': 38}, {'p': 53}, {'u': 51}, {'w': 52}, {'x': 40}, {'a': 49}, {'c': 47}, {'d': 52}, {'g': 18}, {'h': 55}, {'i': 42}, {'j': 37}, {'k': 34}, {'l': 54}, {'m': 38}]\n",
      "Child List: [{'e': 8}, {'f': 5}, {'o': 6}, {'q': 0}, {'r': 4}, {'s': 10}, {'t': 10}, {'y': 4}, {'z': 12}, {'e': 8}, {'f': 5}, {'o': 6}]\n",
      "Teens List: [{'b': 17}, {'n': 13}, {'v': 13}, {'b': 17}, {'n': 13}]\n",
      "Adults List: [{'a': 49}, {'c': 47}, {'d': 52}, {'g': 18}, {'h': 55}, {'i': 42}, {'j': 37}, {'k': 34}, {'l': 54}, {'m': 38}, {'p': 53}, {'u': 51}, {'w': 52}, {'x': 40}, {'a': 49}, {'c': 47}, {'d': 52}, {'g': 18}, {'h': 55}, {'i': 42}, {'j': 37}, {'k': 34}, {'l': 54}, {'m': 38}, {'p': 53}]\n",
      "Child List: [{'e': 8}, {'f': 5}, {'o': 6}, {'q': 0}, {'r': 4}, {'s': 10}, {'t': 10}, {'y': 4}, {'z': 12}, {'e': 8}, {'f': 5}, {'o': 6}, {'q': 0}]\n",
      "Teens List: [{'b': 17}, {'n': 13}, {'v': 13}, {'b': 17}, {'n': 13}]\n",
      "Adults List: [{'a': 49}, {'c': 47}, {'d': 52}, {'g': 18}, {'h': 55}, {'i': 42}, {'j': 37}, {'k': 34}, {'l': 54}, {'m': 38}, {'p': 53}, {'u': 51}, {'w': 52}, {'x': 40}, {'a': 49}, {'c': 47}, {'d': 52}, {'g': 18}, {'h': 55}, {'i': 42}, {'j': 37}, {'k': 34}, {'l': 54}, {'m': 38}, {'p': 53}]\n",
      "Child List: [{'e': 8}, {'f': 5}, {'o': 6}, {'q': 0}, {'r': 4}, {'s': 10}, {'t': 10}, {'y': 4}, {'z': 12}, {'e': 8}, {'f': 5}, {'o': 6}, {'q': 0}, {'r': 4}]\n",
      "Teens List: [{'b': 17}, {'n': 13}, {'v': 13}, {'b': 17}, {'n': 13}]\n",
      "Adults List: [{'a': 49}, {'c': 47}, {'d': 52}, {'g': 18}, {'h': 55}, {'i': 42}, {'j': 37}, {'k': 34}, {'l': 54}, {'m': 38}, {'p': 53}, {'u': 51}, {'w': 52}, {'x': 40}, {'a': 49}, {'c': 47}, {'d': 52}, {'g': 18}, {'h': 55}, {'i': 42}, {'j': 37}, {'k': 34}, {'l': 54}, {'m': 38}, {'p': 53}]\n",
      "Child List: [{'e': 8}, {'f': 5}, {'o': 6}, {'q': 0}, {'r': 4}, {'s': 10}, {'t': 10}, {'y': 4}, {'z': 12}, {'e': 8}, {'f': 5}, {'o': 6}, {'q': 0}, {'r': 4}, {'s': 10}]\n",
      "Teens List: [{'b': 17}, {'n': 13}, {'v': 13}, {'b': 17}, {'n': 13}]\n",
      "Adults List: [{'a': 49}, {'c': 47}, {'d': 52}, {'g': 18}, {'h': 55}, {'i': 42}, {'j': 37}, {'k': 34}, {'l': 54}, {'m': 38}, {'p': 53}, {'u': 51}, {'w': 52}, {'x': 40}, {'a': 49}, {'c': 47}, {'d': 52}, {'g': 18}, {'h': 55}, {'i': 42}, {'j': 37}, {'k': 34}, {'l': 54}, {'m': 38}, {'p': 53}]\n",
      "Child List: [{'e': 8}, {'f': 5}, {'o': 6}, {'q': 0}, {'r': 4}, {'s': 10}, {'t': 10}, {'y': 4}, {'z': 12}, {'e': 8}, {'f': 5}, {'o': 6}, {'q': 0}, {'r': 4}, {'s': 10}, {'t': 10}]\n",
      "Teens List: [{'b': 17}, {'n': 13}, {'v': 13}, {'b': 17}, {'n': 13}]\n",
      "Adults List: [{'a': 49}, {'c': 47}, {'d': 52}, {'g': 18}, {'h': 55}, {'i': 42}, {'j': 37}, {'k': 34}, {'l': 54}, {'m': 38}, {'p': 53}, {'u': 51}, {'w': 52}, {'x': 40}, {'a': 49}, {'c': 47}, {'d': 52}, {'g': 18}, {'h': 55}, {'i': 42}, {'j': 37}, {'k': 34}, {'l': 54}, {'m': 38}, {'p': 53}]\n",
      "Child List: [{'e': 8}, {'f': 5}, {'o': 6}, {'q': 0}, {'r': 4}, {'s': 10}, {'t': 10}, {'y': 4}, {'z': 12}, {'e': 8}, {'f': 5}, {'o': 6}, {'q': 0}, {'r': 4}, {'s': 10}, {'t': 10}]\n",
      "Teens List: [{'b': 17}, {'n': 13}, {'v': 13}, {'b': 17}, {'n': 13}]\n",
      "Adults List: [{'a': 49}, {'c': 47}, {'d': 52}, {'g': 18}, {'h': 55}, {'i': 42}, {'j': 37}, {'k': 34}, {'l': 54}, {'m': 38}, {'p': 53}, {'u': 51}, {'w': 52}, {'x': 40}, {'a': 49}, {'c': 47}, {'d': 52}, {'g': 18}, {'h': 55}, {'i': 42}, {'j': 37}, {'k': 34}, {'l': 54}, {'m': 38}, {'p': 53}, {'u': 51}]\n",
      "Child List: [{'e': 8}, {'f': 5}, {'o': 6}, {'q': 0}, {'r': 4}, {'s': 10}, {'t': 10}, {'y': 4}, {'z': 12}, {'e': 8}, {'f': 5}, {'o': 6}, {'q': 0}, {'r': 4}, {'s': 10}, {'t': 10}]\n",
      "Teens List: [{'b': 17}, {'n': 13}, {'v': 13}, {'b': 17}, {'n': 13}, {'v': 13}]\n",
      "Adults List: [{'a': 49}, {'c': 47}, {'d': 52}, {'g': 18}, {'h': 55}, {'i': 42}, {'j': 37}, {'k': 34}, {'l': 54}, {'m': 38}, {'p': 53}, {'u': 51}, {'w': 52}, {'x': 40}, {'a': 49}, {'c': 47}, {'d': 52}, {'g': 18}, {'h': 55}, {'i': 42}, {'j': 37}, {'k': 34}, {'l': 54}, {'m': 38}, {'p': 53}, {'u': 51}]\n",
      "Child List: [{'e': 8}, {'f': 5}, {'o': 6}, {'q': 0}, {'r': 4}, {'s': 10}, {'t': 10}, {'y': 4}, {'z': 12}, {'e': 8}, {'f': 5}, {'o': 6}, {'q': 0}, {'r': 4}, {'s': 10}, {'t': 10}]\n",
      "Teens List: [{'b': 17}, {'n': 13}, {'v': 13}, {'b': 17}, {'n': 13}, {'v': 13}]\n",
      "Adults List: [{'a': 49}, {'c': 47}, {'d': 52}, {'g': 18}, {'h': 55}, {'i': 42}, {'j': 37}, {'k': 34}, {'l': 54}, {'m': 38}, {'p': 53}, {'u': 51}, {'w': 52}, {'x': 40}, {'a': 49}, {'c': 47}, {'d': 52}, {'g': 18}, {'h': 55}, {'i': 42}, {'j': 37}, {'k': 34}, {'l': 54}, {'m': 38}, {'p': 53}, {'u': 51}, {'w': 52}]\n",
      "Child List: [{'e': 8}, {'f': 5}, {'o': 6}, {'q': 0}, {'r': 4}, {'s': 10}, {'t': 10}, {'y': 4}, {'z': 12}, {'e': 8}, {'f': 5}, {'o': 6}, {'q': 0}, {'r': 4}, {'s': 10}, {'t': 10}]\n",
      "Teens List: [{'b': 17}, {'n': 13}, {'v': 13}, {'b': 17}, {'n': 13}, {'v': 13}]\n",
      "Adults List: [{'a': 49}, {'c': 47}, {'d': 52}, {'g': 18}, {'h': 55}, {'i': 42}, {'j': 37}, {'k': 34}, {'l': 54}, {'m': 38}, {'p': 53}, {'u': 51}, {'w': 52}, {'x': 40}, {'a': 49}, {'c': 47}, {'d': 52}, {'g': 18}, {'h': 55}, {'i': 42}, {'j': 37}, {'k': 34}, {'l': 54}, {'m': 38}, {'p': 53}, {'u': 51}, {'w': 52}, {'x': 40}]\n",
      "Child List: [{'e': 8}, {'f': 5}, {'o': 6}, {'q': 0}, {'r': 4}, {'s': 10}, {'t': 10}, {'y': 4}, {'z': 12}, {'e': 8}, {'f': 5}, {'o': 6}, {'q': 0}, {'r': 4}, {'s': 10}, {'t': 10}, {'y': 4}]\n",
      "Teens List: [{'b': 17}, {'n': 13}, {'v': 13}, {'b': 17}, {'n': 13}, {'v': 13}]\n",
      "Adults List: [{'a': 49}, {'c': 47}, {'d': 52}, {'g': 18}, {'h': 55}, {'i': 42}, {'j': 37}, {'k': 34}, {'l': 54}, {'m': 38}, {'p': 53}, {'u': 51}, {'w': 52}, {'x': 40}, {'a': 49}, {'c': 47}, {'d': 52}, {'g': 18}, {'h': 55}, {'i': 42}, {'j': 37}, {'k': 34}, {'l': 54}, {'m': 38}, {'p': 53}, {'u': 51}, {'w': 52}, {'x': 40}]\n",
      "Child List: [{'e': 8}, {'f': 5}, {'o': 6}, {'q': 0}, {'r': 4}, {'s': 10}, {'t': 10}, {'y': 4}, {'z': 12}, {'e': 8}, {'f': 5}, {'o': 6}, {'q': 0}, {'r': 4}, {'s': 10}, {'t': 10}, {'y': 4}, {'z': 12}]\n",
      "Teens List: [{'b': 17}, {'n': 13}, {'v': 13}, {'b': 17}, {'n': 13}, {'v': 13}]\n",
      "Adults List: [{'a': 49}, {'c': 47}, {'d': 52}, {'g': 18}, {'h': 55}, {'i': 42}, {'j': 37}, {'k': 34}, {'l': 54}, {'m': 38}, {'p': 53}, {'u': 51}, {'w': 52}, {'x': 40}, {'a': 49}, {'c': 47}, {'d': 52}, {'g': 18}, {'h': 55}, {'i': 42}, {'j': 37}, {'k': 34}, {'l': 54}, {'m': 38}, {'p': 53}, {'u': 51}, {'w': 52}, {'x': 40}]\n"
     ]
    }
   ],
   "source": [
    "import numpy as np\n",
    "def categorize(data_dictionary):\n",
    "    child = []\n",
    "    teens = []\n",
    "    adults = []\n",
    "    \n",
    "for iterator in range(26):\n",
    "  name = names[iterator]\n",
    "  data_dictionary = {'a': 49, 'b': 17, 'c': 47, 'd': 52, 'e': 8, 'f': 5, 'g': 18, 'h': 55, 'i': 42, 'j': 37, 'k': 34, 'l': 54, 'm': 38, 'n': 13, 'o': 6, 'p': 53, 'q': 0, 'r': 4, 's': 10, 't': 10, 'u': 51, 'v': 13, 'w': 52, 'x': 40, 'y': 4, 'z': 12}\n",
    "  age = data_dictionary[name]\n",
    "\n",
    "  if (age < 13):\n",
    "    child.append({name:data_dictionary[name]})\n",
    "  elif (age <18):\n",
    "    teens.append({name:data_dictionary[name]})\n",
    "  else:\n",
    "    adults.append({name:data_dictionary[name]})\n",
    "    \n",
    "  print('Child List:', child)\n",
    "  print('Teens List:', teens)\n",
    "  print('Adults List:', adults)"
   ]
  },
  {
   "cell_type": "code",
   "execution_count": 207,
   "metadata": {},
   "outputs": [
    {
     "name": "stdout",
     "output_type": "stream",
     "text": [
      "{'a': 313, 'b': 464, 'c': 249, 'd': 8, 'e': 198, 'f': 393, 'g': 437, 'h': 63, 'i': 189, 'j': 313, 'k': 241, 'l': 335, 'm': 25, 'n': 403, 'o': 19, 'p': 416, 'q': 300, 'r': 363, 's': 348, 't': 492, 'u': 115, 'v': 62, 'w': 461, 'x': 31, 'y': 322, 'z': 469}\n"
     ]
    }
   ],
   "source": [
    "import numpy as np\n",
    "alpha = 'a'\n",
    "names = []\n",
    "for i in range (0,26):\n",
    "    names.append(alpha)\n",
    "    alpha = chr(ord(alpha)+1)\n",
    "ages = np.random.randint(5,500, size=26)\n",
    "new_data = dict(zip(names, ages))\n",
    "print(new_data)"
   ]
  },
  {
   "cell_type": "code",
   "execution_count": 212,
   "metadata": {},
   "outputs": [
    {
     "name": "stdout",
     "output_type": "stream",
     "text": [
      "None\n"
     ]
    }
   ],
   "source": [
    "print(categorize(new_data))"
   ]
  },
  {
   "cell_type": "code",
   "execution_count": 213,
   "metadata": {},
   "outputs": [
    {
     "name": "stdout",
     "output_type": "stream",
     "text": [
      "100\n"
     ]
    }
   ],
   "source": [
    "def test():\n",
    "    return 100\n",
    "\n",
    "print(test())"
   ]
  },
  {
   "cell_type": "code",
   "execution_count": 217,
   "metadata": {},
   "outputs": [
    {
     "name": "stdout",
     "output_type": "stream",
     "text": [
      "200\n"
     ]
    }
   ],
   "source": [
    "def test():\n",
    "    return 200    \n",
    "\n",
    "print(test())"
   ]
  },
  {
   "cell_type": "code",
   "execution_count": 218,
   "metadata": {},
   "outputs": [
    {
     "name": "stdout",
     "output_type": "stream",
     "text": [
      "200\n"
     ]
    }
   ],
   "source": [
    "a = test()\n",
    "print(a)"
   ]
  },
  {
   "cell_type": "code",
   "execution_count": 227,
   "metadata": {},
   "outputs": [],
   "source": [
    "import numpy as np\n",
    "def categorize(data_dictionary):\n",
    "    \n",
    "    child = []\n",
    "    teens = []\n",
    "    adults = []\n",
    "    \n",
    "    for iterator in range(26):\n",
    "        name = names[iterator]\n",
    "        data_dictionary = {'a': 49, 'b': 17, 'c': 47, 'd': 52, 'e': 8, 'f': 5, 'g': 18, 'h': 55, 'i': 42, 'j': 37, 'k': 34, 'l': 54, 'm': 38, 'n': 13, 'o': 6, 'p': 53, 'q': 0, 'r': 4, 's': 10, 't': 10, 'u': 51, 'v': 13, 'w': 52, 'x': 40, 'y': 4, 'z': 12}\n",
    "        age = data_dictionary[name]\n",
    "\n",
    "    if (age < 13):\n",
    "       child.append({name:data_dictionary[name]})\n",
    "    elif (age <18):\n",
    "        teens.append({name:data_dictionary[name]})\n",
    "    else:\n",
    "        adults.append({name:data_dictionary[name]})    \n",
    "    return [child, teens, adults] \n",
    "\n",
    "  #print('Child List:', child)\n",
    "  #print('Teens List:', teens)\n",
    "  #print('Adults List:', adults)"
   ]
  },
  {
   "cell_type": "code",
   "execution_count": 232,
   "metadata": {},
   "outputs": [],
   "source": [
    "categorized_data = categorize(data_dictionary)"
   ]
  },
  {
   "cell_type": "code",
   "execution_count": 234,
   "metadata": {},
   "outputs": [
    {
     "name": "stdout",
     "output_type": "stream",
     "text": [
      "[[{'z': 12}], [], []]\n"
     ]
    }
   ],
   "source": [
    "print(categorized_data)"
   ]
  },
  {
   "cell_type": "markdown",
   "metadata": {},
   "source": [
    "# Reading & writing Files"
   ]
  },
  {
   "cell_type": "raw",
   "metadata": {},
   "source": [
    "# Reading & writing Files\n",
    "open('File1.txt', mode)\n",
    "    There are different modes to read/write files\n",
    "    1. Read mode - 'r' : Used to read already saved text file \n",
    "    2. 'r+' : Read & write mode - You want to read the file & you also get permissions to write file. You use pre existing file here.\n",
    "    3. 'w' mode : you open file for writing, you'll basically create a new file\n",
    "    4. 'w+' mode : open files for reading as well as writing - Basically replaces the pre existing file. Create a new file and allow the reading file.\n",
    "    5. 'a' mode : Append only function. Create a file which doesn't exist for writing.\n",
    "    6. 'a+'mode : Create a new file and write it as a sort of 'r+' & 'w+' similar\n",
    "Do this exercise in GoogleColab\n",
    "https://colab.research.google.com     "
   ]
  },
  {
   "cell_type": "code",
   "execution_count": 251,
   "metadata": {},
   "outputs": [],
   "source": [
    "file_1 = open('File1.txt', 'w')"
   ]
  },
  {
   "cell_type": "code",
   "execution_count": 252,
   "metadata": {},
   "outputs": [],
   "source": [
    "l = \"Python is a good programming language and it's easy to understand\""
   ]
  },
  {
   "cell_type": "code",
   "execution_count": 253,
   "metadata": {},
   "outputs": [
    {
     "data": {
      "text/plain": [
       "65"
      ]
     },
     "execution_count": 253,
     "metadata": {},
     "output_type": "execute_result"
    }
   ],
   "source": [
    "file_1.write(l)"
   ]
  },
  {
   "cell_type": "code",
   "execution_count": 254,
   "metadata": {},
   "outputs": [],
   "source": [
    "file_1.close()"
   ]
  },
  {
   "cell_type": "code",
   "execution_count": 255,
   "metadata": {},
   "outputs": [],
   "source": [
    "file_1 = open('File1.txt', 'r')"
   ]
  },
  {
   "cell_type": "code",
   "execution_count": 257,
   "metadata": {},
   "outputs": [
    {
     "data": {
      "text/plain": [
       "\"Python is a good programming language and it's easy to understand\""
      ]
     },
     "execution_count": 257,
     "metadata": {},
     "output_type": "execute_result"
    }
   ],
   "source": [
    "file_1.read()"
   ]
  },
  {
   "cell_type": "markdown",
   "metadata": {},
   "source": [
    "# Numpy & Pandas"
   ]
  },
  {
   "cell_type": "raw",
   "metadata": {},
   "source": [
    "Numpy is the collection of numbers, lists, strings etc."
   ]
  },
  {
   "cell_type": "code",
   "execution_count": 2,
   "metadata": {},
   "outputs": [],
   "source": [
    "import numpy as np"
   ]
  },
  {
   "cell_type": "code",
   "execution_count": 5,
   "metadata": {},
   "outputs": [],
   "source": [
    "random_numbers = np.random.randint(0,100, size = 10)"
   ]
  },
  {
   "cell_type": "code",
   "execution_count": 6,
   "metadata": {},
   "outputs": [
    {
     "data": {
      "text/plain": [
       "array([19, 76, 62, 85, 99, 35, 72, 18, 54, 27])"
      ]
     },
     "execution_count": 6,
     "metadata": {},
     "output_type": "execute_result"
    }
   ],
   "source": [
    "random_numbers"
   ]
  },
  {
   "cell_type": "code",
   "execution_count": 7,
   "metadata": {},
   "outputs": [
    {
     "data": {
      "text/plain": [
       "547"
      ]
     },
     "execution_count": 7,
     "metadata": {},
     "output_type": "execute_result"
    }
   ],
   "source": [
    "np.sum(random_numbers)"
   ]
  },
  {
   "cell_type": "code",
   "execution_count": 8,
   "metadata": {},
   "outputs": [
    {
     "data": {
      "text/plain": [
       "49824571560825600"
      ]
     },
     "execution_count": 8,
     "metadata": {},
     "output_type": "execute_result"
    }
   ],
   "source": [
    "np.prod(random_numbers)"
   ]
  },
  {
   "cell_type": "raw",
   "metadata": {},
   "source": [
    "To read a csv file"
   ]
  },
  {
   "cell_type": "code",
   "execution_count": 9,
   "metadata": {},
   "outputs": [],
   "source": [
    "import pandas as pd"
   ]
  },
  {
   "cell_type": "code",
   "execution_count": 10,
   "metadata": {},
   "outputs": [],
   "source": [
    "data = pd.read_csv(\"Downloads/titanic3 (1).csv\")"
   ]
  },
  {
   "cell_type": "code",
   "execution_count": 11,
   "metadata": {},
   "outputs": [
    {
     "data": {
      "text/html": [
       "<div>\n",
       "<style scoped>\n",
       "    .dataframe tbody tr th:only-of-type {\n",
       "        vertical-align: middle;\n",
       "    }\n",
       "\n",
       "    .dataframe tbody tr th {\n",
       "        vertical-align: top;\n",
       "    }\n",
       "\n",
       "    .dataframe thead th {\n",
       "        text-align: right;\n",
       "    }\n",
       "</style>\n",
       "<table border=\"1\" class=\"dataframe\">\n",
       "  <thead>\n",
       "    <tr style=\"text-align: right;\">\n",
       "      <th></th>\n",
       "      <th>pclass</th>\n",
       "      <th>survived</th>\n",
       "      <th>name</th>\n",
       "      <th>sex</th>\n",
       "      <th>age</th>\n",
       "      <th>sibsp</th>\n",
       "      <th>parch</th>\n",
       "      <th>ticket</th>\n",
       "      <th>fare</th>\n",
       "      <th>cabin</th>\n",
       "      <th>embarked</th>\n",
       "      <th>boat</th>\n",
       "      <th>body</th>\n",
       "      <th>home.dest</th>\n",
       "    </tr>\n",
       "  </thead>\n",
       "  <tbody>\n",
       "    <tr>\n",
       "      <td>0</td>\n",
       "      <td>1.0</td>\n",
       "      <td>1.0</td>\n",
       "      <td>Allen, Miss. Elisabeth Walton</td>\n",
       "      <td>female</td>\n",
       "      <td>29.0000</td>\n",
       "      <td>0.0</td>\n",
       "      <td>0.0</td>\n",
       "      <td>24160</td>\n",
       "      <td>211.3375</td>\n",
       "      <td>B5</td>\n",
       "      <td>S</td>\n",
       "      <td>2</td>\n",
       "      <td>NaN</td>\n",
       "      <td>St Louis, MO</td>\n",
       "    </tr>\n",
       "    <tr>\n",
       "      <td>1</td>\n",
       "      <td>1.0</td>\n",
       "      <td>1.0</td>\n",
       "      <td>Allison, Master. Hudson Trevor</td>\n",
       "      <td>male</td>\n",
       "      <td>0.9167</td>\n",
       "      <td>1.0</td>\n",
       "      <td>2.0</td>\n",
       "      <td>113781</td>\n",
       "      <td>151.5500</td>\n",
       "      <td>C22 C26</td>\n",
       "      <td>S</td>\n",
       "      <td>11</td>\n",
       "      <td>NaN</td>\n",
       "      <td>Montreal, PQ / Chesterville, ON</td>\n",
       "    </tr>\n",
       "    <tr>\n",
       "      <td>2</td>\n",
       "      <td>1.0</td>\n",
       "      <td>0.0</td>\n",
       "      <td>Allison, Miss. Helen Loraine</td>\n",
       "      <td>female</td>\n",
       "      <td>2.0000</td>\n",
       "      <td>1.0</td>\n",
       "      <td>2.0</td>\n",
       "      <td>113781</td>\n",
       "      <td>151.5500</td>\n",
       "      <td>C22 C26</td>\n",
       "      <td>S</td>\n",
       "      <td>NaN</td>\n",
       "      <td>NaN</td>\n",
       "      <td>Montreal, PQ / Chesterville, ON</td>\n",
       "    </tr>\n",
       "    <tr>\n",
       "      <td>3</td>\n",
       "      <td>1.0</td>\n",
       "      <td>0.0</td>\n",
       "      <td>Allison, Mr. Hudson Joshua Creighton</td>\n",
       "      <td>male</td>\n",
       "      <td>30.0000</td>\n",
       "      <td>1.0</td>\n",
       "      <td>2.0</td>\n",
       "      <td>113781</td>\n",
       "      <td>151.5500</td>\n",
       "      <td>C22 C26</td>\n",
       "      <td>S</td>\n",
       "      <td>NaN</td>\n",
       "      <td>135.0</td>\n",
       "      <td>Montreal, PQ / Chesterville, ON</td>\n",
       "    </tr>\n",
       "    <tr>\n",
       "      <td>4</td>\n",
       "      <td>1.0</td>\n",
       "      <td>0.0</td>\n",
       "      <td>Allison, Mrs. Hudson J C (Bessie Waldo Daniels)</td>\n",
       "      <td>female</td>\n",
       "      <td>25.0000</td>\n",
       "      <td>1.0</td>\n",
       "      <td>2.0</td>\n",
       "      <td>113781</td>\n",
       "      <td>151.5500</td>\n",
       "      <td>C22 C26</td>\n",
       "      <td>S</td>\n",
       "      <td>NaN</td>\n",
       "      <td>NaN</td>\n",
       "      <td>Montreal, PQ / Chesterville, ON</td>\n",
       "    </tr>\n",
       "    <tr>\n",
       "      <td>...</td>\n",
       "      <td>...</td>\n",
       "      <td>...</td>\n",
       "      <td>...</td>\n",
       "      <td>...</td>\n",
       "      <td>...</td>\n",
       "      <td>...</td>\n",
       "      <td>...</td>\n",
       "      <td>...</td>\n",
       "      <td>...</td>\n",
       "      <td>...</td>\n",
       "      <td>...</td>\n",
       "      <td>...</td>\n",
       "      <td>...</td>\n",
       "      <td>...</td>\n",
       "    </tr>\n",
       "    <tr>\n",
       "      <td>1305</td>\n",
       "      <td>3.0</td>\n",
       "      <td>0.0</td>\n",
       "      <td>Zabour, Miss. Thamine</td>\n",
       "      <td>female</td>\n",
       "      <td>NaN</td>\n",
       "      <td>1.0</td>\n",
       "      <td>0.0</td>\n",
       "      <td>2665</td>\n",
       "      <td>14.4542</td>\n",
       "      <td>NaN</td>\n",
       "      <td>C</td>\n",
       "      <td>NaN</td>\n",
       "      <td>NaN</td>\n",
       "      <td>NaN</td>\n",
       "    </tr>\n",
       "    <tr>\n",
       "      <td>1306</td>\n",
       "      <td>3.0</td>\n",
       "      <td>0.0</td>\n",
       "      <td>Zakarian, Mr. Mapriededer</td>\n",
       "      <td>male</td>\n",
       "      <td>26.5000</td>\n",
       "      <td>0.0</td>\n",
       "      <td>0.0</td>\n",
       "      <td>2656</td>\n",
       "      <td>7.2250</td>\n",
       "      <td>NaN</td>\n",
       "      <td>C</td>\n",
       "      <td>NaN</td>\n",
       "      <td>304.0</td>\n",
       "      <td>NaN</td>\n",
       "    </tr>\n",
       "    <tr>\n",
       "      <td>1307</td>\n",
       "      <td>3.0</td>\n",
       "      <td>0.0</td>\n",
       "      <td>Zakarian, Mr. Ortin</td>\n",
       "      <td>male</td>\n",
       "      <td>27.0000</td>\n",
       "      <td>0.0</td>\n",
       "      <td>0.0</td>\n",
       "      <td>2670</td>\n",
       "      <td>7.2250</td>\n",
       "      <td>NaN</td>\n",
       "      <td>C</td>\n",
       "      <td>NaN</td>\n",
       "      <td>NaN</td>\n",
       "      <td>NaN</td>\n",
       "    </tr>\n",
       "    <tr>\n",
       "      <td>1308</td>\n",
       "      <td>3.0</td>\n",
       "      <td>0.0</td>\n",
       "      <td>Zimmerman, Mr. Leo</td>\n",
       "      <td>male</td>\n",
       "      <td>29.0000</td>\n",
       "      <td>0.0</td>\n",
       "      <td>0.0</td>\n",
       "      <td>315082</td>\n",
       "      <td>7.8750</td>\n",
       "      <td>NaN</td>\n",
       "      <td>S</td>\n",
       "      <td>NaN</td>\n",
       "      <td>NaN</td>\n",
       "      <td>NaN</td>\n",
       "    </tr>\n",
       "    <tr>\n",
       "      <td>1309</td>\n",
       "      <td>NaN</td>\n",
       "      <td>NaN</td>\n",
       "      <td>NaN</td>\n",
       "      <td>NaN</td>\n",
       "      <td>NaN</td>\n",
       "      <td>NaN</td>\n",
       "      <td>NaN</td>\n",
       "      <td>NaN</td>\n",
       "      <td>NaN</td>\n",
       "      <td>NaN</td>\n",
       "      <td>NaN</td>\n",
       "      <td>NaN</td>\n",
       "      <td>NaN</td>\n",
       "      <td>NaN</td>\n",
       "    </tr>\n",
       "  </tbody>\n",
       "</table>\n",
       "<p>1310 rows × 14 columns</p>\n",
       "</div>"
      ],
      "text/plain": [
       "      pclass  survived                                             name  \\\n",
       "0        1.0       1.0                    Allen, Miss. Elisabeth Walton   \n",
       "1        1.0       1.0                   Allison, Master. Hudson Trevor   \n",
       "2        1.0       0.0                     Allison, Miss. Helen Loraine   \n",
       "3        1.0       0.0             Allison, Mr. Hudson Joshua Creighton   \n",
       "4        1.0       0.0  Allison, Mrs. Hudson J C (Bessie Waldo Daniels)   \n",
       "...      ...       ...                                              ...   \n",
       "1305     3.0       0.0                            Zabour, Miss. Thamine   \n",
       "1306     3.0       0.0                        Zakarian, Mr. Mapriededer   \n",
       "1307     3.0       0.0                              Zakarian, Mr. Ortin   \n",
       "1308     3.0       0.0                               Zimmerman, Mr. Leo   \n",
       "1309     NaN       NaN                                              NaN   \n",
       "\n",
       "         sex      age  sibsp  parch  ticket      fare    cabin embarked boat  \\\n",
       "0     female  29.0000    0.0    0.0   24160  211.3375       B5        S    2   \n",
       "1       male   0.9167    1.0    2.0  113781  151.5500  C22 C26        S   11   \n",
       "2     female   2.0000    1.0    2.0  113781  151.5500  C22 C26        S  NaN   \n",
       "3       male  30.0000    1.0    2.0  113781  151.5500  C22 C26        S  NaN   \n",
       "4     female  25.0000    1.0    2.0  113781  151.5500  C22 C26        S  NaN   \n",
       "...      ...      ...    ...    ...     ...       ...      ...      ...  ...   \n",
       "1305  female      NaN    1.0    0.0    2665   14.4542      NaN        C  NaN   \n",
       "1306    male  26.5000    0.0    0.0    2656    7.2250      NaN        C  NaN   \n",
       "1307    male  27.0000    0.0    0.0    2670    7.2250      NaN        C  NaN   \n",
       "1308    male  29.0000    0.0    0.0  315082    7.8750      NaN        S  NaN   \n",
       "1309     NaN      NaN    NaN    NaN     NaN       NaN      NaN      NaN  NaN   \n",
       "\n",
       "       body                        home.dest  \n",
       "0       NaN                     St Louis, MO  \n",
       "1       NaN  Montreal, PQ / Chesterville, ON  \n",
       "2       NaN  Montreal, PQ / Chesterville, ON  \n",
       "3     135.0  Montreal, PQ / Chesterville, ON  \n",
       "4       NaN  Montreal, PQ / Chesterville, ON  \n",
       "...     ...                              ...  \n",
       "1305    NaN                              NaN  \n",
       "1306  304.0                              NaN  \n",
       "1307    NaN                              NaN  \n",
       "1308    NaN                              NaN  \n",
       "1309    NaN                              NaN  \n",
       "\n",
       "[1310 rows x 14 columns]"
      ]
     },
     "execution_count": 11,
     "metadata": {},
     "output_type": "execute_result"
    }
   ],
   "source": [
    "data"
   ]
  },
  {
   "cell_type": "code",
   "execution_count": 12,
   "metadata": {},
   "outputs": [
    {
     "data": {
      "text/plain": [
       "Index(['pclass', 'survived', 'name', 'sex', 'age', 'sibsp', 'parch', 'ticket',\n",
       "       'fare', 'cabin', 'embarked', 'boat', 'body', 'home.dest'],\n",
       "      dtype='object')"
      ]
     },
     "execution_count": 12,
     "metadata": {},
     "output_type": "execute_result"
    }
   ],
   "source": [
    "data.columns"
   ]
  },
  {
   "cell_type": "code",
   "execution_count": 17,
   "metadata": {},
   "outputs": [
    {
     "data": {
      "text/plain": [
       "(1310, 14)"
      ]
     },
     "execution_count": 17,
     "metadata": {},
     "output_type": "execute_result"
    }
   ],
   "source": [
    "data.shape"
   ]
  },
  {
   "cell_type": "code",
   "execution_count": 18,
   "metadata": {},
   "outputs": [
    {
     "data": {
      "text/plain": [
       "pclass                            1\n",
       "survived                          0\n",
       "name         Astor, Col. John Jacob\n",
       "sex                            male\n",
       "age                              47\n",
       "sibsp                             1\n",
       "parch                             0\n",
       "ticket                     PC 17757\n",
       "fare                        227.525\n",
       "cabin                       C62 C64\n",
       "embarked                          C\n",
       "boat                            NaN\n",
       "body                            124\n",
       "home.dest              New York, NY\n",
       "Name: 10, dtype: object"
      ]
     },
     "execution_count": 18,
     "metadata": {},
     "output_type": "execute_result"
    }
   ],
   "source": [
    "data.iloc[10]   //To get 10th row details"
   ]
  },
  {
   "cell_type": "code",
   "execution_count": 40,
   "metadata": {},
   "outputs": [
    {
     "data": {
      "text/plain": [
       "0       211.338\n",
       "1        151.55\n",
       "2        151.55\n",
       "3        151.55\n",
       "4        151.55\n",
       "         ...   \n",
       "1305    14.4542\n",
       "1306      7.225\n",
       "1307      7.225\n",
       "1308      7.875\n",
       "1309        NaN\n",
       "Name: fare, Length: 1310, dtype: object"
      ]
     },
     "execution_count": 40,
     "metadata": {},
     "output_type": "execute_result"
    }
   ],
   "source": [
    "#To select columns\n",
    "data.T.iloc[8]"
   ]
  },
  {
   "cell_type": "code",
   "execution_count": 20,
   "metadata": {},
   "outputs": [
    {
     "data": {
      "text/plain": [
       "0       211.3375\n",
       "1       151.5500\n",
       "2       151.5500\n",
       "3       151.5500\n",
       "4       151.5500\n",
       "          ...   \n",
       "1305     14.4542\n",
       "1306      7.2250\n",
       "1307      7.2250\n",
       "1308      7.8750\n",
       "1309         NaN\n",
       "Name: fare, Length: 1310, dtype: float64"
      ]
     },
     "execution_count": 20,
     "metadata": {},
     "output_type": "execute_result"
    }
   ],
   "source": [
    "data[\"fare\"]"
   ]
  },
  {
   "cell_type": "code",
   "execution_count": 21,
   "metadata": {},
   "outputs": [
    {
     "data": {
      "text/html": [
       "<div>\n",
       "<style scoped>\n",
       "    .dataframe tbody tr th:only-of-type {\n",
       "        vertical-align: middle;\n",
       "    }\n",
       "\n",
       "    .dataframe tbody tr th {\n",
       "        vertical-align: top;\n",
       "    }\n",
       "\n",
       "    .dataframe thead th {\n",
       "        text-align: right;\n",
       "    }\n",
       "</style>\n",
       "<table border=\"1\" class=\"dataframe\">\n",
       "  <thead>\n",
       "    <tr style=\"text-align: right;\">\n",
       "      <th></th>\n",
       "      <th>pclass</th>\n",
       "      <th>survived</th>\n",
       "      <th>name</th>\n",
       "      <th>sex</th>\n",
       "      <th>age</th>\n",
       "      <th>sibsp</th>\n",
       "      <th>parch</th>\n",
       "      <th>ticket</th>\n",
       "      <th>fare</th>\n",
       "      <th>cabin</th>\n",
       "      <th>embarked</th>\n",
       "      <th>boat</th>\n",
       "      <th>body</th>\n",
       "      <th>home.dest</th>\n",
       "    </tr>\n",
       "  </thead>\n",
       "  <tbody>\n",
       "    <tr>\n",
       "      <td>5</td>\n",
       "      <td>1.0</td>\n",
       "      <td>1.0</td>\n",
       "      <td>Anderson, Mr. Harry</td>\n",
       "      <td>male</td>\n",
       "      <td>48.0</td>\n",
       "      <td>0.0</td>\n",
       "      <td>0.0</td>\n",
       "      <td>19952</td>\n",
       "      <td>26.5500</td>\n",
       "      <td>E12</td>\n",
       "      <td>S</td>\n",
       "      <td>3</td>\n",
       "      <td>NaN</td>\n",
       "      <td>New York, NY</td>\n",
       "    </tr>\n",
       "    <tr>\n",
       "      <td>6</td>\n",
       "      <td>1.0</td>\n",
       "      <td>1.0</td>\n",
       "      <td>Andrews, Miss. Kornelia Theodosia</td>\n",
       "      <td>female</td>\n",
       "      <td>63.0</td>\n",
       "      <td>1.0</td>\n",
       "      <td>0.0</td>\n",
       "      <td>13502</td>\n",
       "      <td>77.9583</td>\n",
       "      <td>D7</td>\n",
       "      <td>S</td>\n",
       "      <td>10</td>\n",
       "      <td>NaN</td>\n",
       "      <td>Hudson, NY</td>\n",
       "    </tr>\n",
       "    <tr>\n",
       "      <td>7</td>\n",
       "      <td>1.0</td>\n",
       "      <td>0.0</td>\n",
       "      <td>Andrews, Mr. Thomas Jr</td>\n",
       "      <td>male</td>\n",
       "      <td>39.0</td>\n",
       "      <td>0.0</td>\n",
       "      <td>0.0</td>\n",
       "      <td>112050</td>\n",
       "      <td>0.0000</td>\n",
       "      <td>A36</td>\n",
       "      <td>S</td>\n",
       "      <td>NaN</td>\n",
       "      <td>NaN</td>\n",
       "      <td>Belfast, NI</td>\n",
       "    </tr>\n",
       "    <tr>\n",
       "      <td>8</td>\n",
       "      <td>1.0</td>\n",
       "      <td>1.0</td>\n",
       "      <td>Appleton, Mrs. Edward Dale (Charlotte Lamson)</td>\n",
       "      <td>female</td>\n",
       "      <td>53.0</td>\n",
       "      <td>2.0</td>\n",
       "      <td>0.0</td>\n",
       "      <td>11769</td>\n",
       "      <td>51.4792</td>\n",
       "      <td>C101</td>\n",
       "      <td>S</td>\n",
       "      <td>D</td>\n",
       "      <td>NaN</td>\n",
       "      <td>Bayside, Queens, NY</td>\n",
       "    </tr>\n",
       "    <tr>\n",
       "      <td>9</td>\n",
       "      <td>1.0</td>\n",
       "      <td>0.0</td>\n",
       "      <td>Artagaveytia, Mr. Ramon</td>\n",
       "      <td>male</td>\n",
       "      <td>71.0</td>\n",
       "      <td>0.0</td>\n",
       "      <td>0.0</td>\n",
       "      <td>PC 17609</td>\n",
       "      <td>49.5042</td>\n",
       "      <td>NaN</td>\n",
       "      <td>C</td>\n",
       "      <td>NaN</td>\n",
       "      <td>22.0</td>\n",
       "      <td>Montevideo, Uruguay</td>\n",
       "    </tr>\n",
       "    <tr>\n",
       "      <td>...</td>\n",
       "      <td>...</td>\n",
       "      <td>...</td>\n",
       "      <td>...</td>\n",
       "      <td>...</td>\n",
       "      <td>...</td>\n",
       "      <td>...</td>\n",
       "      <td>...</td>\n",
       "      <td>...</td>\n",
       "      <td>...</td>\n",
       "      <td>...</td>\n",
       "      <td>...</td>\n",
       "      <td>...</td>\n",
       "      <td>...</td>\n",
       "      <td>...</td>\n",
       "    </tr>\n",
       "    <tr>\n",
       "      <td>1304</td>\n",
       "      <td>3.0</td>\n",
       "      <td>0.0</td>\n",
       "      <td>Zabour, Miss. Hileni</td>\n",
       "      <td>female</td>\n",
       "      <td>14.5</td>\n",
       "      <td>1.0</td>\n",
       "      <td>0.0</td>\n",
       "      <td>2665</td>\n",
       "      <td>14.4542</td>\n",
       "      <td>NaN</td>\n",
       "      <td>C</td>\n",
       "      <td>NaN</td>\n",
       "      <td>328.0</td>\n",
       "      <td>NaN</td>\n",
       "    </tr>\n",
       "    <tr>\n",
       "      <td>1305</td>\n",
       "      <td>3.0</td>\n",
       "      <td>0.0</td>\n",
       "      <td>Zabour, Miss. Thamine</td>\n",
       "      <td>female</td>\n",
       "      <td>NaN</td>\n",
       "      <td>1.0</td>\n",
       "      <td>0.0</td>\n",
       "      <td>2665</td>\n",
       "      <td>14.4542</td>\n",
       "      <td>NaN</td>\n",
       "      <td>C</td>\n",
       "      <td>NaN</td>\n",
       "      <td>NaN</td>\n",
       "      <td>NaN</td>\n",
       "    </tr>\n",
       "    <tr>\n",
       "      <td>1306</td>\n",
       "      <td>3.0</td>\n",
       "      <td>0.0</td>\n",
       "      <td>Zakarian, Mr. Mapriededer</td>\n",
       "      <td>male</td>\n",
       "      <td>26.5</td>\n",
       "      <td>0.0</td>\n",
       "      <td>0.0</td>\n",
       "      <td>2656</td>\n",
       "      <td>7.2250</td>\n",
       "      <td>NaN</td>\n",
       "      <td>C</td>\n",
       "      <td>NaN</td>\n",
       "      <td>304.0</td>\n",
       "      <td>NaN</td>\n",
       "    </tr>\n",
       "    <tr>\n",
       "      <td>1307</td>\n",
       "      <td>3.0</td>\n",
       "      <td>0.0</td>\n",
       "      <td>Zakarian, Mr. Ortin</td>\n",
       "      <td>male</td>\n",
       "      <td>27.0</td>\n",
       "      <td>0.0</td>\n",
       "      <td>0.0</td>\n",
       "      <td>2670</td>\n",
       "      <td>7.2250</td>\n",
       "      <td>NaN</td>\n",
       "      <td>C</td>\n",
       "      <td>NaN</td>\n",
       "      <td>NaN</td>\n",
       "      <td>NaN</td>\n",
       "    </tr>\n",
       "    <tr>\n",
       "      <td>1308</td>\n",
       "      <td>3.0</td>\n",
       "      <td>0.0</td>\n",
       "      <td>Zimmerman, Mr. Leo</td>\n",
       "      <td>male</td>\n",
       "      <td>29.0</td>\n",
       "      <td>0.0</td>\n",
       "      <td>0.0</td>\n",
       "      <td>315082</td>\n",
       "      <td>7.8750</td>\n",
       "      <td>NaN</td>\n",
       "      <td>S</td>\n",
       "      <td>NaN</td>\n",
       "      <td>NaN</td>\n",
       "      <td>NaN</td>\n",
       "    </tr>\n",
       "  </tbody>\n",
       "</table>\n",
       "<p>1224 rows × 14 columns</p>\n",
       "</div>"
      ],
      "text/plain": [
       "      pclass  survived                                           name     sex  \\\n",
       "5        1.0       1.0                            Anderson, Mr. Harry    male   \n",
       "6        1.0       1.0              Andrews, Miss. Kornelia Theodosia  female   \n",
       "7        1.0       0.0                         Andrews, Mr. Thomas Jr    male   \n",
       "8        1.0       1.0  Appleton, Mrs. Edward Dale (Charlotte Lamson)  female   \n",
       "9        1.0       0.0                        Artagaveytia, Mr. Ramon    male   \n",
       "...      ...       ...                                            ...     ...   \n",
       "1304     3.0       0.0                           Zabour, Miss. Hileni  female   \n",
       "1305     3.0       0.0                          Zabour, Miss. Thamine  female   \n",
       "1306     3.0       0.0                      Zakarian, Mr. Mapriededer    male   \n",
       "1307     3.0       0.0                            Zakarian, Mr. Ortin    male   \n",
       "1308     3.0       0.0                             Zimmerman, Mr. Leo    male   \n",
       "\n",
       "       age  sibsp  parch    ticket     fare cabin embarked boat   body  \\\n",
       "5     48.0    0.0    0.0     19952  26.5500   E12        S    3    NaN   \n",
       "6     63.0    1.0    0.0     13502  77.9583    D7        S   10    NaN   \n",
       "7     39.0    0.0    0.0    112050   0.0000   A36        S  NaN    NaN   \n",
       "8     53.0    2.0    0.0     11769  51.4792  C101        S    D    NaN   \n",
       "9     71.0    0.0    0.0  PC 17609  49.5042   NaN        C  NaN   22.0   \n",
       "...    ...    ...    ...       ...      ...   ...      ...  ...    ...   \n",
       "1304  14.5    1.0    0.0      2665  14.4542   NaN        C  NaN  328.0   \n",
       "1305   NaN    1.0    0.0      2665  14.4542   NaN        C  NaN    NaN   \n",
       "1306  26.5    0.0    0.0      2656   7.2250   NaN        C  NaN  304.0   \n",
       "1307  27.0    0.0    0.0      2670   7.2250   NaN        C  NaN    NaN   \n",
       "1308  29.0    0.0    0.0    315082   7.8750   NaN        S  NaN    NaN   \n",
       "\n",
       "                home.dest  \n",
       "5            New York, NY  \n",
       "6              Hudson, NY  \n",
       "7             Belfast, NI  \n",
       "8     Bayside, Queens, NY  \n",
       "9     Montevideo, Uruguay  \n",
       "...                   ...  \n",
       "1304                  NaN  \n",
       "1305                  NaN  \n",
       "1306                  NaN  \n",
       "1307                  NaN  \n",
       "1308                  NaN  \n",
       "\n",
       "[1224 rows x 14 columns]"
      ]
     },
     "execution_count": 21,
     "metadata": {},
     "output_type": "execute_result"
    }
   ],
   "source": [
    "data[data['fare']<100]"
   ]
  },
  {
   "cell_type": "code",
   "execution_count": 35,
   "metadata": {},
   "outputs": [
    {
     "data": {
      "text/html": [
       "<div>\n",
       "<style scoped>\n",
       "    .dataframe tbody tr th:only-of-type {\n",
       "        vertical-align: middle;\n",
       "    }\n",
       "\n",
       "    .dataframe tbody tr th {\n",
       "        vertical-align: top;\n",
       "    }\n",
       "\n",
       "    .dataframe thead th {\n",
       "        text-align: right;\n",
       "    }\n",
       "</style>\n",
       "<table border=\"1\" class=\"dataframe\">\n",
       "  <thead>\n",
       "    <tr style=\"text-align: right;\">\n",
       "      <th></th>\n",
       "      <th>pclass</th>\n",
       "      <th>survived</th>\n",
       "      <th>name</th>\n",
       "      <th>sex</th>\n",
       "      <th>age</th>\n",
       "      <th>sibsp</th>\n",
       "      <th>parch</th>\n",
       "      <th>ticket</th>\n",
       "      <th>fare</th>\n",
       "      <th>cabin</th>\n",
       "      <th>embarked</th>\n",
       "      <th>boat</th>\n",
       "      <th>body</th>\n",
       "      <th>home.dest</th>\n",
       "    </tr>\n",
       "  </thead>\n",
       "  <tbody>\n",
       "    <tr>\n",
       "      <td>1</td>\n",
       "      <td>1.0</td>\n",
       "      <td>1.0</td>\n",
       "      <td>Allison, Master. Hudson Trevor</td>\n",
       "      <td>male</td>\n",
       "      <td>0.9167</td>\n",
       "      <td>1.0</td>\n",
       "      <td>2.0</td>\n",
       "      <td>113781</td>\n",
       "      <td>151.5500</td>\n",
       "      <td>C22 C26</td>\n",
       "      <td>S</td>\n",
       "      <td>11</td>\n",
       "      <td>NaN</td>\n",
       "      <td>Montreal, PQ / Chesterville, ON</td>\n",
       "    </tr>\n",
       "    <tr>\n",
       "      <td>3</td>\n",
       "      <td>1.0</td>\n",
       "      <td>0.0</td>\n",
       "      <td>Allison, Mr. Hudson Joshua Creighton</td>\n",
       "      <td>male</td>\n",
       "      <td>30.0000</td>\n",
       "      <td>1.0</td>\n",
       "      <td>2.0</td>\n",
       "      <td>113781</td>\n",
       "      <td>151.5500</td>\n",
       "      <td>C22 C26</td>\n",
       "      <td>S</td>\n",
       "      <td>NaN</td>\n",
       "      <td>135.0</td>\n",
       "      <td>Montreal, PQ / Chesterville, ON</td>\n",
       "    </tr>\n",
       "    <tr>\n",
       "      <td>5</td>\n",
       "      <td>1.0</td>\n",
       "      <td>1.0</td>\n",
       "      <td>Anderson, Mr. Harry</td>\n",
       "      <td>male</td>\n",
       "      <td>48.0000</td>\n",
       "      <td>0.0</td>\n",
       "      <td>0.0</td>\n",
       "      <td>19952</td>\n",
       "      <td>26.5500</td>\n",
       "      <td>E12</td>\n",
       "      <td>S</td>\n",
       "      <td>3</td>\n",
       "      <td>NaN</td>\n",
       "      <td>New York, NY</td>\n",
       "    </tr>\n",
       "    <tr>\n",
       "      <td>7</td>\n",
       "      <td>1.0</td>\n",
       "      <td>0.0</td>\n",
       "      <td>Andrews, Mr. Thomas Jr</td>\n",
       "      <td>male</td>\n",
       "      <td>39.0000</td>\n",
       "      <td>0.0</td>\n",
       "      <td>0.0</td>\n",
       "      <td>112050</td>\n",
       "      <td>0.0000</td>\n",
       "      <td>A36</td>\n",
       "      <td>S</td>\n",
       "      <td>NaN</td>\n",
       "      <td>NaN</td>\n",
       "      <td>Belfast, NI</td>\n",
       "    </tr>\n",
       "    <tr>\n",
       "      <td>9</td>\n",
       "      <td>1.0</td>\n",
       "      <td>0.0</td>\n",
       "      <td>Artagaveytia, Mr. Ramon</td>\n",
       "      <td>male</td>\n",
       "      <td>71.0000</td>\n",
       "      <td>0.0</td>\n",
       "      <td>0.0</td>\n",
       "      <td>PC 17609</td>\n",
       "      <td>49.5042</td>\n",
       "      <td>NaN</td>\n",
       "      <td>C</td>\n",
       "      <td>NaN</td>\n",
       "      <td>22.0</td>\n",
       "      <td>Montevideo, Uruguay</td>\n",
       "    </tr>\n",
       "    <tr>\n",
       "      <td>...</td>\n",
       "      <td>...</td>\n",
       "      <td>...</td>\n",
       "      <td>...</td>\n",
       "      <td>...</td>\n",
       "      <td>...</td>\n",
       "      <td>...</td>\n",
       "      <td>...</td>\n",
       "      <td>...</td>\n",
       "      <td>...</td>\n",
       "      <td>...</td>\n",
       "      <td>...</td>\n",
       "      <td>...</td>\n",
       "      <td>...</td>\n",
       "      <td>...</td>\n",
       "    </tr>\n",
       "    <tr>\n",
       "      <td>1302</td>\n",
       "      <td>3.0</td>\n",
       "      <td>0.0</td>\n",
       "      <td>Yousif, Mr. Wazli</td>\n",
       "      <td>male</td>\n",
       "      <td>NaN</td>\n",
       "      <td>0.0</td>\n",
       "      <td>0.0</td>\n",
       "      <td>2647</td>\n",
       "      <td>7.2250</td>\n",
       "      <td>NaN</td>\n",
       "      <td>C</td>\n",
       "      <td>NaN</td>\n",
       "      <td>NaN</td>\n",
       "      <td>NaN</td>\n",
       "    </tr>\n",
       "    <tr>\n",
       "      <td>1303</td>\n",
       "      <td>3.0</td>\n",
       "      <td>0.0</td>\n",
       "      <td>Yousseff, Mr. Gerious</td>\n",
       "      <td>male</td>\n",
       "      <td>NaN</td>\n",
       "      <td>0.0</td>\n",
       "      <td>0.0</td>\n",
       "      <td>2627</td>\n",
       "      <td>14.4583</td>\n",
       "      <td>NaN</td>\n",
       "      <td>C</td>\n",
       "      <td>NaN</td>\n",
       "      <td>NaN</td>\n",
       "      <td>NaN</td>\n",
       "    </tr>\n",
       "    <tr>\n",
       "      <td>1306</td>\n",
       "      <td>3.0</td>\n",
       "      <td>0.0</td>\n",
       "      <td>Zakarian, Mr. Mapriededer</td>\n",
       "      <td>male</td>\n",
       "      <td>26.5000</td>\n",
       "      <td>0.0</td>\n",
       "      <td>0.0</td>\n",
       "      <td>2656</td>\n",
       "      <td>7.2250</td>\n",
       "      <td>NaN</td>\n",
       "      <td>C</td>\n",
       "      <td>NaN</td>\n",
       "      <td>304.0</td>\n",
       "      <td>NaN</td>\n",
       "    </tr>\n",
       "    <tr>\n",
       "      <td>1307</td>\n",
       "      <td>3.0</td>\n",
       "      <td>0.0</td>\n",
       "      <td>Zakarian, Mr. Ortin</td>\n",
       "      <td>male</td>\n",
       "      <td>27.0000</td>\n",
       "      <td>0.0</td>\n",
       "      <td>0.0</td>\n",
       "      <td>2670</td>\n",
       "      <td>7.2250</td>\n",
       "      <td>NaN</td>\n",
       "      <td>C</td>\n",
       "      <td>NaN</td>\n",
       "      <td>NaN</td>\n",
       "      <td>NaN</td>\n",
       "    </tr>\n",
       "    <tr>\n",
       "      <td>1308</td>\n",
       "      <td>3.0</td>\n",
       "      <td>0.0</td>\n",
       "      <td>Zimmerman, Mr. Leo</td>\n",
       "      <td>male</td>\n",
       "      <td>29.0000</td>\n",
       "      <td>0.0</td>\n",
       "      <td>0.0</td>\n",
       "      <td>315082</td>\n",
       "      <td>7.8750</td>\n",
       "      <td>NaN</td>\n",
       "      <td>S</td>\n",
       "      <td>NaN</td>\n",
       "      <td>NaN</td>\n",
       "      <td>NaN</td>\n",
       "    </tr>\n",
       "  </tbody>\n",
       "</table>\n",
       "<p>843 rows × 14 columns</p>\n",
       "</div>"
      ],
      "text/plain": [
       "      pclass  survived                                  name   sex      age  \\\n",
       "1        1.0       1.0        Allison, Master. Hudson Trevor  male   0.9167   \n",
       "3        1.0       0.0  Allison, Mr. Hudson Joshua Creighton  male  30.0000   \n",
       "5        1.0       1.0                   Anderson, Mr. Harry  male  48.0000   \n",
       "7        1.0       0.0                Andrews, Mr. Thomas Jr  male  39.0000   \n",
       "9        1.0       0.0               Artagaveytia, Mr. Ramon  male  71.0000   \n",
       "...      ...       ...                                   ...   ...      ...   \n",
       "1302     3.0       0.0                     Yousif, Mr. Wazli  male      NaN   \n",
       "1303     3.0       0.0                 Yousseff, Mr. Gerious  male      NaN   \n",
       "1306     3.0       0.0             Zakarian, Mr. Mapriededer  male  26.5000   \n",
       "1307     3.0       0.0                   Zakarian, Mr. Ortin  male  27.0000   \n",
       "1308     3.0       0.0                    Zimmerman, Mr. Leo  male  29.0000   \n",
       "\n",
       "      sibsp  parch    ticket      fare    cabin embarked boat   body  \\\n",
       "1       1.0    2.0    113781  151.5500  C22 C26        S   11    NaN   \n",
       "3       1.0    2.0    113781  151.5500  C22 C26        S  NaN  135.0   \n",
       "5       0.0    0.0     19952   26.5500      E12        S    3    NaN   \n",
       "7       0.0    0.0    112050    0.0000      A36        S  NaN    NaN   \n",
       "9       0.0    0.0  PC 17609   49.5042      NaN        C  NaN   22.0   \n",
       "...     ...    ...       ...       ...      ...      ...  ...    ...   \n",
       "1302    0.0    0.0      2647    7.2250      NaN        C  NaN    NaN   \n",
       "1303    0.0    0.0      2627   14.4583      NaN        C  NaN    NaN   \n",
       "1306    0.0    0.0      2656    7.2250      NaN        C  NaN  304.0   \n",
       "1307    0.0    0.0      2670    7.2250      NaN        C  NaN    NaN   \n",
       "1308    0.0    0.0    315082    7.8750      NaN        S  NaN    NaN   \n",
       "\n",
       "                            home.dest  \n",
       "1     Montreal, PQ / Chesterville, ON  \n",
       "3     Montreal, PQ / Chesterville, ON  \n",
       "5                        New York, NY  \n",
       "7                         Belfast, NI  \n",
       "9                 Montevideo, Uruguay  \n",
       "...                               ...  \n",
       "1302                              NaN  \n",
       "1303                              NaN  \n",
       "1306                              NaN  \n",
       "1307                              NaN  \n",
       "1308                              NaN  \n",
       "\n",
       "[843 rows x 14 columns]"
      ]
     },
     "execution_count": 35,
     "metadata": {},
     "output_type": "execute_result"
    }
   ],
   "source": [
    "data[data['sex'] == 'male']"
   ]
  }
 ],
 "metadata": {
  "kernelspec": {
   "display_name": "Python 3",
   "language": "python",
   "name": "python3"
  },
  "language_info": {
   "codemirror_mode": {
    "name": "ipython",
    "version": 3
   },
   "file_extension": ".py",
   "mimetype": "text/x-python",
   "name": "python",
   "nbconvert_exporter": "python",
   "pygments_lexer": "ipython3",
   "version": "3.7.4"
  }
 },
 "nbformat": 4,
 "nbformat_minor": 2
}
